{
 "cells": [
  {
   "cell_type": "markdown",
   "id": "9d822d07",
   "metadata": {},
   "source": [
    "# 목차\n",
    "- 포멧문자열\n",
    "- apply\n"
   ]
  },
  {
   "cell_type": "markdown",
   "id": "9f9d29bf",
   "metadata": {},
   "source": [
    "### 포멧 문자열"
   ]
  },
  {
   "cell_type": "code",
   "execution_count": 1,
   "id": "be4867fd",
   "metadata": {},
   "outputs": [],
   "source": [
    "a1 = '홍길동'\n",
    "a2 = 30"
   ]
  },
  {
   "cell_type": "code",
   "execution_count": 5,
   "id": "408aaf40",
   "metadata": {},
   "outputs": [
    {
     "name": "stdout",
     "output_type": "stream",
     "text": [
      "이름은 홍길동이고 나이는 30입니다.\n"
     ]
    }
   ],
   "source": [
    "str1 = '이름은 ' + a1 + '이고 나이는 ' + str(a2) + '입니다.'\n",
    "print(str1)"
   ]
  },
  {
   "cell_type": "code",
   "execution_count": 8,
   "id": "5a378b43",
   "metadata": {},
   "outputs": [
    {
     "name": "stdout",
     "output_type": "stream",
     "text": [
      "이름은 홍길동이고 나이는 30살 입니다.\n"
     ]
    }
   ],
   "source": [
    "str2 = '이름은 %s이고 나이는 %d살 입니다.' % (a1, a2)\n",
    "print(str2)"
   ]
  },
  {
   "cell_type": "code",
   "execution_count": null,
   "id": "cb6086c9",
   "metadata": {},
   "outputs": [],
   "source": [
    "a1 = '홍길동'\n",
    "a2 = 30\n",
    "a3 = '파스타'\n",
    "\n",
    "str3 = '이름은 %s이고 나이는 %d살 입니다. %s은 %s를 좋아합니다.'% (a1, a2, a1, a3)\n",
    "print(str3)"
   ]
  },
  {
   "cell_type": "markdown",
   "id": "b3c09717",
   "metadata": {},
   "source": [
    "이렇게 되면 변수를 적용할 때마다 변수를 계속해서 추가해줘야한다. 이를 해결하기 위해 포맷을 사용."
   ]
  },
  {
   "cell_type": "code",
   "execution_count": 10,
   "id": "01ba588f",
   "metadata": {},
   "outputs": [
    {
     "name": "stdout",
     "output_type": "stream",
     "text": [
      "이름은 홍길동이고 나이는 30입니다. 홍길동은 파스타를 좋아합니다\n"
     ]
    }
   ],
   "source": [
    "str4 = '이름은 {0}이고 나이는 {1}입니다. {0}은 {2}를 좋아합니다'.format(a1, a2, a3)\n",
    "print(str4)"
   ]
  },
  {
   "cell_type": "markdown",
   "id": "fd5c0557",
   "metadata": {},
   "source": [
    "근데 이것도 귀찮쓰.. 그래서"
   ]
  },
  {
   "cell_type": "code",
   "execution_count": 11,
   "id": "d272a20b",
   "metadata": {},
   "outputs": [
    {
     "name": "stdout",
     "output_type": "stream",
     "text": [
      "이름은 홍길동이고 나이는 30입니다. 홍길동은 파스타를 좋아합니다.\n"
     ]
    }
   ],
   "source": [
    "str5 = f'이름은 {a1}이고 나이는 {a2}입니다. {a1}은 {a3}를 좋아합니다.'\n",
    "print(str5)"
   ]
  },
  {
   "cell_type": "markdown",
   "id": "266e9dab",
   "metadata": {},
   "source": [
    "### apply 함수"
   ]
  },
  {
   "cell_type": "code",
   "execution_count": 4,
   "id": "87d044e4",
   "metadata": {},
   "outputs": [
    {
     "data": {
      "text/plain": [
       "0    1\n",
       "1    0\n",
       "2    1\n",
       "3    0\n",
       "4    1\n",
       "dtype: int64"
      ]
     },
     "execution_count": 4,
     "metadata": {},
     "output_type": "execute_result"
    }
   ],
   "source": [
    "import pandas as pd\n",
    "a1 = pd.Series([1,2,3,4,5])\n",
    "\n",
    "a1.apply(lambda x : x % 2)"
   ]
  },
  {
   "cell_type": "markdown",
   "id": "82f27604",
   "metadata": {},
   "source": [
    "### 데이터 저장하기: `to_csv`"
   ]
  },
  {
   "cell_type": "code",
   "execution_count": 5,
   "id": "7b327a54",
   "metadata": {},
   "outputs": [
    {
     "ename": "FileNotFoundError",
     "evalue": "[Errno 2] No such file or directory: 'data2/test.csv'",
     "output_type": "error",
     "traceback": [
      "\u001b[1;31m---------------------------------------------------------------------------\u001b[0m",
      "\u001b[1;31mFileNotFoundError\u001b[0m                         Traceback (most recent call last)",
      "\u001b[1;32m<ipython-input-5-b96556fbd030>\u001b[0m in \u001b[0;36m<module>\u001b[1;34m\u001b[0m\n\u001b[0;32m      5\u001b[0m }\n\u001b[0;32m      6\u001b[0m \u001b[0mdf100\u001b[0m \u001b[1;33m=\u001b[0m \u001b[0mpd\u001b[0m\u001b[1;33m.\u001b[0m\u001b[0mDataFrame\u001b[0m\u001b[1;33m(\u001b[0m\u001b[0ma1\u001b[0m\u001b[1;33m)\u001b[0m\u001b[1;33m\u001b[0m\u001b[1;33m\u001b[0m\u001b[0m\n\u001b[1;32m----> 7\u001b[1;33m \u001b[0mdf100\u001b[0m\u001b[1;33m.\u001b[0m\u001b[0mto_csv\u001b[0m\u001b[1;33m(\u001b[0m\u001b[1;34m'data2/test.csv'\u001b[0m\u001b[1;33m,\u001b[0m \u001b[0mindex\u001b[0m\u001b[1;33m=\u001b[0m\u001b[1;32mFalse\u001b[0m\u001b[1;33m,\u001b[0m \u001b[0mencoding\u001b[0m\u001b[1;33m=\u001b[0m\u001b[1;34m'utf-8-sig'\u001b[0m\u001b[1;33m)\u001b[0m\u001b[1;33m\u001b[0m\u001b[1;33m\u001b[0m\u001b[0m\n\u001b[0m",
      "\u001b[1;32m~\\anaconda3\\lib\\site-packages\\pandas\\core\\generic.py\u001b[0m in \u001b[0;36mto_csv\u001b[1;34m(self, path_or_buf, sep, na_rep, float_format, columns, header, index, index_label, mode, encoding, compression, quoting, quotechar, line_terminator, chunksize, date_format, doublequote, escapechar, decimal, errors, storage_options)\u001b[0m\n\u001b[0;32m   3385\u001b[0m         )\n\u001b[0;32m   3386\u001b[0m \u001b[1;33m\u001b[0m\u001b[0m\n\u001b[1;32m-> 3387\u001b[1;33m         return DataFrameRenderer(formatter).to_csv(\n\u001b[0m\u001b[0;32m   3388\u001b[0m             \u001b[0mpath_or_buf\u001b[0m\u001b[1;33m,\u001b[0m\u001b[1;33m\u001b[0m\u001b[1;33m\u001b[0m\u001b[0m\n\u001b[0;32m   3389\u001b[0m             \u001b[0mline_terminator\u001b[0m\u001b[1;33m=\u001b[0m\u001b[0mline_terminator\u001b[0m\u001b[1;33m,\u001b[0m\u001b[1;33m\u001b[0m\u001b[1;33m\u001b[0m\u001b[0m\n",
      "\u001b[1;32m~\\anaconda3\\lib\\site-packages\\pandas\\io\\formats\\format.py\u001b[0m in \u001b[0;36mto_csv\u001b[1;34m(self, path_or_buf, encoding, sep, columns, index_label, mode, compression, quoting, quotechar, line_terminator, chunksize, date_format, doublequote, escapechar, errors, storage_options)\u001b[0m\n\u001b[0;32m   1081\u001b[0m             \u001b[0mformatter\u001b[0m\u001b[1;33m=\u001b[0m\u001b[0mself\u001b[0m\u001b[1;33m.\u001b[0m\u001b[0mfmt\u001b[0m\u001b[1;33m,\u001b[0m\u001b[1;33m\u001b[0m\u001b[1;33m\u001b[0m\u001b[0m\n\u001b[0;32m   1082\u001b[0m         )\n\u001b[1;32m-> 1083\u001b[1;33m         \u001b[0mcsv_formatter\u001b[0m\u001b[1;33m.\u001b[0m\u001b[0msave\u001b[0m\u001b[1;33m(\u001b[0m\u001b[1;33m)\u001b[0m\u001b[1;33m\u001b[0m\u001b[1;33m\u001b[0m\u001b[0m\n\u001b[0m\u001b[0;32m   1084\u001b[0m \u001b[1;33m\u001b[0m\u001b[0m\n\u001b[0;32m   1085\u001b[0m         \u001b[1;32mif\u001b[0m \u001b[0mcreated_buffer\u001b[0m\u001b[1;33m:\u001b[0m\u001b[1;33m\u001b[0m\u001b[1;33m\u001b[0m\u001b[0m\n",
      "\u001b[1;32m~\\anaconda3\\lib\\site-packages\\pandas\\io\\formats\\csvs.py\u001b[0m in \u001b[0;36msave\u001b[1;34m(self)\u001b[0m\n\u001b[0;32m    226\u001b[0m         \"\"\"\n\u001b[0;32m    227\u001b[0m         \u001b[1;31m# apply compression and byte/text conversion\u001b[0m\u001b[1;33m\u001b[0m\u001b[1;33m\u001b[0m\u001b[1;33m\u001b[0m\u001b[0m\n\u001b[1;32m--> 228\u001b[1;33m         with get_handle(\n\u001b[0m\u001b[0;32m    229\u001b[0m             \u001b[0mself\u001b[0m\u001b[1;33m.\u001b[0m\u001b[0mfilepath_or_buffer\u001b[0m\u001b[1;33m,\u001b[0m\u001b[1;33m\u001b[0m\u001b[1;33m\u001b[0m\u001b[0m\n\u001b[0;32m    230\u001b[0m             \u001b[0mself\u001b[0m\u001b[1;33m.\u001b[0m\u001b[0mmode\u001b[0m\u001b[1;33m,\u001b[0m\u001b[1;33m\u001b[0m\u001b[1;33m\u001b[0m\u001b[0m\n",
      "\u001b[1;32m~\\anaconda3\\lib\\site-packages\\pandas\\io\\common.py\u001b[0m in \u001b[0;36mget_handle\u001b[1;34m(path_or_buf, mode, encoding, compression, memory_map, is_text, errors, storage_options)\u001b[0m\n\u001b[0;32m    640\u001b[0m                 \u001b[0merrors\u001b[0m \u001b[1;33m=\u001b[0m \u001b[1;34m\"replace\"\u001b[0m\u001b[1;33m\u001b[0m\u001b[1;33m\u001b[0m\u001b[0m\n\u001b[0;32m    641\u001b[0m             \u001b[1;31m# Encoding\u001b[0m\u001b[1;33m\u001b[0m\u001b[1;33m\u001b[0m\u001b[1;33m\u001b[0m\u001b[0m\n\u001b[1;32m--> 642\u001b[1;33m             handle = open(\n\u001b[0m\u001b[0;32m    643\u001b[0m                 \u001b[0mhandle\u001b[0m\u001b[1;33m,\u001b[0m\u001b[1;33m\u001b[0m\u001b[1;33m\u001b[0m\u001b[0m\n\u001b[0;32m    644\u001b[0m                 \u001b[0mioargs\u001b[0m\u001b[1;33m.\u001b[0m\u001b[0mmode\u001b[0m\u001b[1;33m,\u001b[0m\u001b[1;33m\u001b[0m\u001b[1;33m\u001b[0m\u001b[0m\n",
      "\u001b[1;31mFileNotFoundError\u001b[0m: [Errno 2] No such file or directory: 'data2/test.csv'"
     ]
    }
   ],
   "source": [
    "# 엑셀의 경우 저장한 파일이 깨지거나 불러왔을 때 깨지는 경우가 있는데, 이를 모두 보완한 인코딩은 utf-8-sig 이다.\n",
    "a1 = {\n",
    "    '값1' : [10,20,30,40,50],\n",
    "    '값2' : ['SOLE', '성시경', '이소라', '토이', '권진아']\n",
    "}\n",
    "df100 = pd.DataFrame(a1)\n",
    "df100.to_csv('data2/test.csv', index=False, encoding='utf-8-sig')"
   ]
  },
  {
   "cell_type": "code",
   "execution_count": null,
   "id": "4f457baa",
   "metadata": {},
   "outputs": [],
   "source": []
  }
 ],
 "metadata": {
  "kernelspec": {
   "display_name": "Python 3",
   "language": "python",
   "name": "python3"
  },
  "language_info": {
   "codemirror_mode": {
    "name": "ipython",
    "version": 3
   },
   "file_extension": ".py",
   "mimetype": "text/x-python",
   "name": "python",
   "nbconvert_exporter": "python",
   "pygments_lexer": "ipython3",
   "version": "3.8.10"
  }
 },
 "nbformat": 4,
 "nbformat_minor": 5
}
