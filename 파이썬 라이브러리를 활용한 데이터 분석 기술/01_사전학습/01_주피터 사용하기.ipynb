{
 "cells": [
  {
   "cell_type": "markdown",
   "id": "f08cf948",
   "metadata": {},
   "source": [
    "- 노트북의 모드\n",
    "    - `esc` : command mode. 셀들을 관리할 수 있다.\n",
    "    - `enter` : edit mode. 셀에 원하는 내용을 입력할 수 있다.\n",
    "    \n",
    "<br>\n",
    "\n",
    "- 셀의 모드\n",
    "    - `m` : mark down. 설명을 작성할 수 있다.\n",
    "    - `y` : code mode. 파이썬 코드를 작성할 수 있다.\n",
    "    \n",
    "<br>\n",
    "\n",
    "- 공통 단축키\n",
    "    - `shift` + `enter` : 현재 셀을 실행하고 다음 셀로 이동한다.\n",
    "    - `ctrl` + `enter` : 현재 셀을 실행하고 다음 셀로 이동하지 않는다.\n",
    "    \n",
    "<br>\n",
    "\n",
    "- command mode 단축키\n",
    "    - 화살표 위 아래 : 셀을 이동한다.\n",
    "    - `a` : 현재 셀을 기준으로 상단에 셀을 추가하고 이동한다.\n",
    "    - `b` : 현재 셀을 기준으로 하단에 셀을 추가하고 이동한다.\n",
    "    - `dd` : 현재 셀을 삭제한다.\n",
    "    - `shift` + `m` : 선택한 셀들을 하나로 합쳐준다.\n",
    "    \n",
    "<br>\n",
    "\n",
    "- edit mode 단축키\n",
    "    - 화살표 위 아래 : 셀 내에서 위 아래로 이동한다. 단 첫 번째 줄에 있을 경우는 이전 셀로 이동하고 마지막 줄에 있을 경우에는 다음 셀로 이동한다.\n",
    "    - `ctrl` + `shift` + `-` : 현재 위치를 기준으로 셀을 나눈다."
   ]
  },
  {
   "cell_type": "markdown",
   "id": "30f689ec",
   "metadata": {},
   "source": [
    "# 제목1\n",
    "## 제목2\n",
    "### 제목3\n",
    "#### 제목4\n",
    "##### 제목5"
   ]
  },
  {
   "cell_type": "markdown",
   "id": "b81bc049",
   "metadata": {},
   "source": [
    "- html 을 지원한다.\n",
    "동해물과 <span style='color:red'>백두산이</span> 마르고 닳도록"
   ]
  },
  {
   "cell_type": "markdown",
   "id": "c7a7c20b",
   "metadata": {},
   "source": [
    "키야아아아아\n",
    "<img src='image/다운로드2.jfif'/>"
   ]
  },
  {
   "cell_type": "code",
   "execution_count": null,
   "id": "e73a4044",
   "metadata": {},
   "outputs": [],
   "source": []
  },
  {
   "cell_type": "code",
   "execution_count": null,
   "id": "cda5c407",
   "metadata": {},
   "outputs": [],
   "source": []
  },
  {
   "cell_type": "code",
   "execution_count": null,
   "id": "20b9247d",
   "metadata": {},
   "outputs": [],
   "source": []
  }
 ],
 "metadata": {
  "kernelspec": {
   "display_name": "Python 3",
   "language": "python",
   "name": "python3"
  },
  "language_info": {
   "codemirror_mode": {
    "name": "ipython",
    "version": 3
   },
   "file_extension": ".py",
   "mimetype": "text/x-python",
   "name": "python",
   "nbconvert_exporter": "python",
   "pygments_lexer": "ipython3",
   "version": "3.8.10"
  }
 },
 "nbformat": 4,
 "nbformat_minor": 5
}
