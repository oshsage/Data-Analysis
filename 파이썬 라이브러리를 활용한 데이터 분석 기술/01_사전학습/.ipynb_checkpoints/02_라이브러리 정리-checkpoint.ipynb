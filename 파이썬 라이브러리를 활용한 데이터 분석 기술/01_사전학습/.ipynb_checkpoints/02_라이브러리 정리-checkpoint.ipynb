{
 "cells": [
  {
   "cell_type": "markdown",
   "id": "75ff6027",
   "metadata": {},
   "source": [
    "# numpy\n",
    "> 파이썬에서 행렬 데이터를 관리하기 위해 제공되는 라이브러리\n",
    "- 일반적인 프로그래밍에서 데이터를 다루는 방식이 아닌 수학의 행렬 데이터를 다루는 방식으로 데이터를 관리한다.\n",
    "\n",
    "<br>\n",
    "\n",
    "# scipy\n",
    "> 과학 산술 연산을 위해 만든 라이브러리\n",
    "- 천문학, 기상학, 물리 등 고차 수학에서 사용하는 공식들을 구현해놓은 라이브러리\n",
    "- 딥러닝 알고리즘을 구현할 때 사용한다.\n",
    "\n",
    "<br>\n",
    "\n",
    "# sympy\n",
    "> 미분, 적분, 벡터 공간 등을 손쉽게 계산할 수 있도록 만들어진 라이브러리\n",
    "- 딥러닝 알고리즘을 구현할 때 사용한다.\n",
    "- 사용하기가 매우 어렵기 때문에 상당 수 numpy를 가지고 작업을 한다.\n",
    "\n",
    "<br>\n",
    "\n",
    "# pandas\n",
    "> numpy는 수학에서 행렬을 다루기 위해 만든 라이브러리지만, 데이터를 다룰 때 좀 더 많은 기능을 필요로하기 때문에 pandas가 탄생\n",
    "- 데이터 사이언스 분야에서 가장 핵심이 되는 라이브러리\n",
    "- 데이터 분석, 시각화, 전처리, 변환, 가공 등등 많은 기능을 가지고 있다.\n",
    "\n",
    "<br>\n",
    "\n",
    "# scikit_learn\n",
    "> 파이썬에서 사용하는 대표 머신러닝 알고리즘\n",
    "- 대부분의 머신러닝 알고리즘들을 구현해 제고하고 있으며 프로젝트 수행에 필요한 기능도 제공하고 있다.\n",
    "- 학습을 위해 필요한 데이터도 일부 제공하고 있다.\n",
    "\n",
    "<br>\n",
    "\n",
    "# tensorflow, pytorch\n",
    "> 파이썬에서 사용하는 대표 딥러닝 알고리즘\n",
    "- 딥러닝 프로젝트를 수행하기 위한 다양한 기능을 포함한다.\n",
    "- 하지만 코드를 작성하는 것이 매우 불편하다.\n",
    "\n",
    "<br>\n",
    "\n",
    "# keras\n",
    "> tensorflow나 pytorch는 코드 작성이 매우 불편하다.\n",
    "- keras를 추가로 사용하면 keras를 통해 손쉽게 코드를 작성하고 실제 운영은 tensorflow나 pytorch로 하게 된다.\n",
    "- 특히 tensorflow는 무조건 keras를 통해 작업을 하고 pytorch는 keras를 사용하지 않는 개발자도 많다."
   ]
  },
  {
   "cell_type": "code",
   "execution_count": null,
   "id": "4f553b5f",
   "metadata": {},
   "outputs": [],
   "source": []
  }
 ],
 "metadata": {
  "kernelspec": {
   "display_name": "Python 3",
   "language": "python",
   "name": "python3"
  },
  "language_info": {
   "codemirror_mode": {
    "name": "ipython",
    "version": 3
   },
   "file_extension": ".py",
   "mimetype": "text/x-python",
   "name": "python",
   "nbconvert_exporter": "python",
   "pygments_lexer": "ipython3",
   "version": "3.8.10"
  }
 },
 "nbformat": 4,
 "nbformat_minor": 5
}
