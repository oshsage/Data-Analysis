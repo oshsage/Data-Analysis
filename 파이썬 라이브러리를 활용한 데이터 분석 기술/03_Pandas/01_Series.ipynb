{
 "cells": [
  {
   "cell_type": "code",
   "execution_count": null,
   "id": "1a1148a6",
   "metadata": {},
   "outputs": [],
   "source": [
    "### Series\n",
    "- 값과 행렬로 구성된 1열 데이터\n",
    "- 특성 하나의 데이터"
   ]
  },
  {
   "cell_type": "code",
   "execution_count": 2,
   "id": "7e7d1491",
   "metadata": {},
   "outputs": [],
   "source": [
    "import pandas as pd\n",
    "import numpy as np"
   ]
  },
  {
   "cell_type": "markdown",
   "id": "aa0ac4c7",
   "metadata": {},
   "source": [
    "### Series 생성\n",
    "- series는 list, tuple, ndarray로 생성할 수 있다.\n",
    "- list, tuple인 경우에는 ndarray 로 생성한 다음 관리한다.\n",
    "- ndarray인 경우에는 해당 행렬 데이터를 관리한다."
   ]
  },
  {
   "cell_type": "code",
   "execution_count": 22,
   "id": "b905ca0a",
   "metadata": {},
   "outputs": [
    {
     "name": "stdout",
     "output_type": "stream",
     "text": [
      "0    10\n",
      "1    20\n",
      "2    30\n",
      "3    40\n",
      "4    50\n",
      "dtype: int64\n"
     ]
    },
    {
     "data": {
      "text/plain": [
       "0    10\n",
       "1    20\n",
       "2    30\n",
       "3    40\n",
       "4    50\n",
       "dtype: int64"
      ]
     },
     "metadata": {},
     "output_type": "display_data"
    }
   ],
   "source": [
    "s1 = pd.Series([10, 20, 30, 40, 50])\n",
    "print(s1)\n",
    "display(s1)"
   ]
  },
  {
   "cell_type": "markdown",
   "id": "0d6d9408",
   "metadata": {},
   "source": [
    "### Series가 관리하는 데이터에 접근하기\n",
    "- value\n",
    "- index"
   ]
  },
  {
   "cell_type": "code",
   "execution_count": null,
   "id": "ee098e92",
   "metadata": {},
   "outputs": [],
   "source": [
    "print(s1[0])\n",
    "print(s1[1])\n",
    "print(s1[2])\n",
    "#  **[]는 인덱스 지칭하는 것.**"
   ]
  },
  {
   "cell_type": "code",
   "execution_count": 23,
   "id": "75cb9642",
   "metadata": {},
   "outputs": [
    {
     "data": {
      "text/plain": [
       "numpy.ndarray"
      ]
     },
     "metadata": {},
     "output_type": "display_data"
    },
    {
     "name": "stdout",
     "output_type": "stream",
     "text": [
      "[10 20 30 40 50]\n"
     ]
    }
   ],
   "source": [
    "# 관리하는 값들은 모두 가져온다.\n",
    "array1 = s1.values\n",
    "display(type(array1))\n",
    "print(array1)"
   ]
  },
  {
   "cell_type": "code",
   "execution_count": 24,
   "id": "eabd9bac",
   "metadata": {},
   "outputs": [
    {
     "name": "stdout",
     "output_type": "stream",
     "text": [
      "<class 'pandas.core.indexes.range.RangeIndex'>\n",
      "RangeIndex(start=0, stop=5, step=1)\n",
      "[0, 1, 2, 3, 4]\n"
     ]
    }
   ],
   "source": [
    "# index를 추출한다.\n",
    "array2 = s1.index\n",
    "print(type(array2))\n",
    "print(array2)\n",
    "print(list(array2))\n",
    "\n",
    "# 활용 ex)  나이 컬럼 >= 30, index 삭제.\n",
    "# 조건식으로 추출"
   ]
  },
  {
   "cell_type": "markdown",
   "id": "54ec9ace",
   "metadata": {},
   "source": [
    "### index 지정하기\n",
    "- Series 생성시 index를 지정하지 않으면 0부터 1씩 증가되는 값으로 지정된다.\n",
    "- index를 지정하고 싶다면 생성시 지정하거나 생성 후 필요할 때 지정할 수 있다."
   ]
  },
  {
   "cell_type": "code",
   "execution_count": 3,
   "id": "fbb300d6",
   "metadata": {},
   "outputs": [
    {
     "data": {
      "text/plain": [
       "0    1000\n",
       "1    2000\n",
       "2    3000\n",
       "dtype: int64"
      ]
     },
     "execution_count": 3,
     "metadata": {},
     "output_type": "execute_result"
    }
   ],
   "source": [
    "s1 = pd.Series([1000, 2000, 3000])\n",
    "s1"
   ]
  },
  {
   "cell_type": "code",
   "execution_count": 4,
   "id": "fb627d73",
   "metadata": {},
   "outputs": [
    {
     "data": {
      "text/plain": [
       "값1    1000\n",
       "값2    2000\n",
       "값3    3000\n",
       "dtype: int64"
      ]
     },
     "execution_count": 4,
     "metadata": {},
     "output_type": "execute_result"
    }
   ],
   "source": [
    "# 생성한 Series에 인덱스를 변경\n",
    "# 새롭게 설정하는 인덱스의 개수는 Series의 전체 행의 개수와 일치해야 한다.\n",
    "s1.index = ['값1', '값2', '값3']\n",
    "s1"
   ]
  },
  {
   "cell_type": "code",
   "execution_count": 6,
   "id": "1afd35d1",
   "metadata": {},
   "outputs": [
    {
     "data": {
      "text/plain": [
       "값1    1000\n",
       "값2    2000\n",
       "값3    3000\n",
       "dtype: int64"
      ]
     },
     "execution_count": 6,
     "metadata": {},
     "output_type": "execute_result"
    }
   ],
   "source": [
    "# 생성할 때 index를 지정한다.\n",
    "s2 = pd.Series([1000, 2000, 3000], index=['값1', '값2', '값3'])\n",
    "s2"
   ]
  },
  {
   "cell_type": "markdown",
   "id": "cf8ddcda",
   "metadata": {},
   "source": [
    "### 값을 가져온다"
   ]
  },
  {
   "cell_type": "code",
   "execution_count": 7,
   "id": "fcad42f7",
   "metadata": {},
   "outputs": [
    {
     "data": {
      "text/plain": [
       "0    10\n",
       "1    20\n",
       "2    30\n",
       "3    40\n",
       "4    50\n",
       "dtype: int64"
      ]
     },
     "execution_count": 7,
     "metadata": {},
     "output_type": "execute_result"
    }
   ],
   "source": [
    "s1 = pd.Series([10,20,30,40,50])\n",
    "s1"
   ]
  },
  {
   "cell_type": "code",
   "execution_count": 8,
   "id": "3b7e9820",
   "metadata": {},
   "outputs": [
    {
     "name": "stdout",
     "output_type": "stream",
     "text": [
      "10\n",
      "20\n",
      "30\n"
     ]
    }
   ],
   "source": [
    "# index가 숫자로 되어 있을 경우 숫자를 지정하면 수너가 아닌 index 값을 통해 접근한다.\n",
    "print(s1[0])\n",
    "print(s1[1])\n",
    "print(s1[2])"
   ]
  },
  {
   "cell_type": "code",
   "execution_count": 9,
   "id": "e338ee44",
   "metadata": {},
   "outputs": [
    {
     "data": {
      "text/plain": [
       "3    10\n",
       "0    20\n",
       "4    30\n",
       "1    40\n",
       "2    50\n",
       "dtype: int64"
      ]
     },
     "execution_count": 9,
     "metadata": {},
     "output_type": "execute_result"
    }
   ],
   "source": [
    "s2 = pd.Series([10, 20, 30, 40, 50], index=[3,0,4,1,2])\n",
    "s2"
   ]
  },
  {
   "cell_type": "code",
   "execution_count": 11,
   "id": "43154f28",
   "metadata": {},
   "outputs": [
    {
     "name": "stdout",
     "output_type": "stream",
     "text": [
      "20\n",
      "40\n",
      "50\n"
     ]
    }
   ],
   "source": [
    "# index를 지정하더라도 숫자로 구성되어 이으면 []의 숫자는 순서가 아닌 index 값을 의미한다.\n",
    "print(s2[0])\n",
    "print(s2[1])\n",
    "print(s2[2])"
   ]
  },
  {
   "cell_type": "code",
   "execution_count": 14,
   "id": "1a597f1a",
   "metadata": {},
   "outputs": [
    {
     "data": {
      "text/plain": [
       "값1    10\n",
       "값2    20\n",
       "값3    30\n",
       "값4    40\n",
       "값5    50\n",
       "dtype: int64"
      ]
     },
     "execution_count": 14,
     "metadata": {},
     "output_type": "execute_result"
    }
   ],
   "source": [
    "# 인덱스가 문자열인 series\n",
    "a1 = ['값1','값2', '값3','값4','값5']\n",
    "s3 = pd.Series([10,20,30,40,50], index=a1)\n",
    "s3"
   ]
  },
  {
   "cell_type": "code",
   "execution_count": 15,
   "id": "f7482e2d",
   "metadata": {},
   "outputs": [
    {
     "name": "stdout",
     "output_type": "stream",
     "text": [
      "10\n",
      "20\n",
      "30\n"
     ]
    }
   ],
   "source": [
    "print(s3['값1'])\n",
    "print(s3['값2'])\n",
    "print(s3['값3'])"
   ]
  },
  {
   "cell_type": "code",
   "execution_count": 16,
   "id": "1a94f13f",
   "metadata": {},
   "outputs": [
    {
     "name": "stdout",
     "output_type": "stream",
     "text": [
      "10\n",
      "20\n",
      "30\n"
     ]
    }
   ],
   "source": [
    "# index가 숫자가 아닌 Series에 숫자를 통해 접근을 하게 되면 순서에 해당한다.\n",
    "# 0부터 1씩 증가\n",
    "print(s3[0])\n",
    "print(s3[1])\n",
    "print(s3[2])"
   ]
  },
  {
   "cell_type": "markdown",
   "id": "8cb1bc78",
   "metadata": {},
   "source": [
    "### Series의 연산\n",
    "- Series는 내부적으로 1차원 ndarray를 관리하기 때문에 연산 등의 작업은 ndarray와 동일하다."
   ]
  },
  {
   "cell_type": "code",
   "execution_count": 18,
   "id": "04ad5797",
   "metadata": {},
   "outputs": [],
   "source": [
    "s1 = pd.Series([10,20,30,40,50])\n",
    "s2 = pd.Series([1,2,3,4,5,6])"
   ]
  },
  {
   "cell_type": "code",
   "execution_count": 21,
   "id": "e2fd4897",
   "metadata": {},
   "outputs": [
    {
     "name": "stdout",
     "output_type": "stream",
     "text": [
      "0    11.0\n",
      "1    22.0\n",
      "2    33.0\n",
      "3    44.0\n",
      "4    55.0\n",
      "5     NaN\n",
      "dtype: float64\n",
      "0     9.0\n",
      "1    18.0\n",
      "2    27.0\n",
      "3    36.0\n",
      "4    45.0\n",
      "5     NaN\n",
      "dtype: float64\n",
      "0     10.0\n",
      "1     40.0\n",
      "2     90.0\n",
      "3    160.0\n",
      "4    250.0\n",
      "5      NaN\n",
      "dtype: float64\n",
      "0    10.0\n",
      "1    10.0\n",
      "2    10.0\n",
      "3    10.0\n",
      "4    10.0\n",
      "5     NaN\n",
      "dtype: float64\n"
     ]
    }
   ],
   "source": [
    "# Series와 Series의 연산\n",
    "# 각 Series의 데이터를 1:1 매칭하여 연산을 한다.\n",
    "# 개수가 다르면 NaN 값을 결과값으로 설정한다.\n",
    "# NaN: Not a Number. 결측치를 의미하는 값\n",
    "# 결측치: 측정되지 않는 값. 값이 비어있는 공간.\n",
    "s10 = s1 + s2\n",
    "s11 = s1 - s2\n",
    "s12 = s1 * s2\n",
    "s13 = s1 // s2\n",
    "\n",
    "print(s10)\n",
    "print(s11)\n",
    "print(s12)\n",
    "print(s13)"
   ]
  },
  {
   "cell_type": "code",
   "execution_count": 25,
   "id": "76a388d9",
   "metadata": {},
   "outputs": [
    {
     "name": "stdout",
     "output_type": "stream",
     "text": [
      "0    20\n",
      "1    30\n",
      "2    40\n",
      "3    50\n",
      "4    60\n",
      "dtype: int64\n",
      "0     0\n",
      "1    10\n",
      "2    20\n",
      "3    30\n",
      "4    40\n",
      "dtype: int64\n",
      "0    100\n",
      "1    200\n",
      "2    300\n",
      "3    400\n",
      "4    500\n",
      "dtype: int64\n",
      "0    1\n",
      "1    2\n",
      "2    3\n",
      "3    4\n",
      "4    5\n",
      "dtype: int64\n"
     ]
    }
   ],
   "source": [
    "# Series와 특정 값의 계산\n",
    "s20 = s1 + 10\n",
    "s21 = s1 - 10\n",
    "s22 = s1 * 10\n",
    "s23 = s1 // 10\n",
    "\n",
    "print(s20)\n",
    "print(s21)\n",
    "print(s22)\n",
    "print(s23)"
   ]
  },
  {
   "cell_type": "code",
   "execution_count": 26,
   "id": "7d20fddb",
   "metadata": {},
   "outputs": [
    {
     "data": {
      "text/plain": [
       "0    False\n",
       "1    False\n",
       "2    False\n",
       "3     True\n",
       "4     True\n",
       "dtype: bool"
      ]
     },
     "execution_count": 26,
     "metadata": {},
     "output_type": "execute_result"
    }
   ],
   "source": [
    "r1 = s1 > 30\n",
    "r1"
   ]
  },
  {
   "cell_type": "markdown",
   "id": "6c2c2b03",
   "metadata": {},
   "source": [
    "### 슬라이싱"
   ]
  },
  {
   "cell_type": "code",
   "execution_count": 27,
   "id": "b2c2f6f1",
   "metadata": {},
   "outputs": [
    {
     "data": {
      "text/plain": [
       "a1    10\n",
       "a2    20\n",
       "a3    30\n",
       "a4    40\n",
       "a5    50\n",
       "dtype: int64"
      ]
     },
     "execution_count": 27,
     "metadata": {},
     "output_type": "execute_result"
    }
   ],
   "source": [
    "s1 = pd.Series([10, 20, 30, 40, 50], index = ['a1', 'a2', 'a3', 'a4', 'a5'])\n",
    "s1"
   ]
  },
  {
   "cell_type": "code",
   "execution_count": 28,
   "id": "98c706ad",
   "metadata": {},
   "outputs": [
    {
     "data": {
      "text/plain": [
       "a2    20\n",
       "a3    30\n",
       "a4    40\n",
       "dtype: int64"
      ]
     },
     "execution_count": 28,
     "metadata": {},
     "output_type": "execute_result"
    }
   ],
   "source": [
    "# a2 ~ a4 까지\n",
    "s2 = s1['a2' : 'a4']\n",
    "s2"
   ]
  },
  {
   "cell_type": "code",
   "execution_count": 31,
   "id": "7dc7a79a",
   "metadata": {},
   "outputs": [
    {
     "data": {
      "text/plain": [
       "a2    20\n",
       "a3    30\n",
       "a4    40\n",
       "dtype: int64"
      ]
     },
     "execution_count": 31,
     "metadata": {},
     "output_type": "execute_result"
    }
   ],
   "source": [
    "# 순서 1 ~ 4-1 까지\n",
    "s2 = s1[1:4]\n",
    "s2"
   ]
  },
  {
   "cell_type": "code",
   "execution_count": 32,
   "id": "aa17eeb0",
   "metadata": {},
   "outputs": [
    {
     "data": {
      "text/plain": [
       "a1    10\n",
       "a3    30\n",
       "a5    50\n",
       "dtype: int64"
      ]
     },
     "execution_count": 32,
     "metadata": {},
     "output_type": "execute_result"
    }
   ],
   "source": [
    "# a1, a3, a5만 가져온다\n",
    "# 원하는 것만 골라서 가져온다.\n",
    "s4 = s1[['a1','a3','a5']]\n",
    "s4"
   ]
  },
  {
   "cell_type": "code",
   "execution_count": 36,
   "id": "4604dd7f",
   "metadata": {},
   "outputs": [
    {
     "data": {
      "text/plain": [
       "a1    10\n",
       "a3    30\n",
       "a5    50\n",
       "dtype: int64"
      ]
     },
     "execution_count": 36,
     "metadata": {},
     "output_type": "execute_result"
    }
   ],
   "source": [
    "# 순서 인덱스\n",
    "# 0, 2, 4\n",
    "s4 = s1 [[0, 2, 4]]\n",
    "s4"
   ]
  },
  {
   "cell_type": "code",
   "execution_count": 37,
   "id": "0941645b",
   "metadata": {},
   "outputs": [
    {
     "data": {
      "text/plain": [
       "a1    10\n",
       "a3    30\n",
       "a5    50\n",
       "dtype: int64"
      ]
     },
     "execution_count": 37,
     "metadata": {},
     "output_type": "execute_result"
    }
   ],
   "source": [
    "# True나 False를 넣으면 True 자리에 해당하는 것만 추출한다.\n",
    "# 단 데이터의 개수와 일치해야 한다.\n",
    "s6 = s1[[True, False, True, False, True]]\n",
    "s6"
   ]
  },
  {
   "cell_type": "code",
   "execution_count": 38,
   "id": "eaef416f",
   "metadata": {},
   "outputs": [
    {
     "data": {
      "text/plain": [
       "a1    False\n",
       "a2    False\n",
       "a3    False\n",
       "a4     True\n",
       "a5     True\n",
       "dtype: bool"
      ]
     },
     "execution_count": 38,
     "metadata": {},
     "output_type": "execute_result"
    }
   ],
   "source": [
    "# 조건에 따라 가져온다.\n",
    "s7 = s1 > 30\n",
    "s7"
   ]
  },
  {
   "cell_type": "code",
   "execution_count": 39,
   "id": "c1bff96b",
   "metadata": {},
   "outputs": [
    {
     "data": {
      "text/plain": [
       "a4    40\n",
       "a5    50\n",
       "dtype: int64"
      ]
     },
     "execution_count": 39,
     "metadata": {},
     "output_type": "execute_result"
    }
   ],
   "source": [
    "s8 = s1[s7]\n",
    "s8"
   ]
  },
  {
   "cell_type": "code",
   "execution_count": 40,
   "id": "3206b3a9",
   "metadata": {},
   "outputs": [
    {
     "data": {
      "text/plain": [
       "a4    40\n",
       "a5    50\n",
       "dtype: int64"
      ]
     },
     "execution_count": 40,
     "metadata": {},
     "output_type": "execute_result"
    }
   ],
   "source": [
    "s9 = s1[s1 > 30]\n",
    "s9"
   ]
  },
  {
   "cell_type": "code",
   "execution_count": 45,
   "id": "e5204035",
   "metadata": {},
   "outputs": [
    {
     "data": {
      "text/html": [
       "<div>\n",
       "<style scoped>\n",
       "    .dataframe tbody tr th:only-of-type {\n",
       "        vertical-align: middle;\n",
       "    }\n",
       "\n",
       "    .dataframe tbody tr th {\n",
       "        vertical-align: top;\n",
       "    }\n",
       "\n",
       "    .dataframe thead th {\n",
       "        text-align: right;\n",
       "    }\n",
       "</style>\n",
       "<table border=\"1\" class=\"dataframe\">\n",
       "  <thead>\n",
       "    <tr style=\"text-align: right;\">\n",
       "      <th></th>\n",
       "      <th>이름</th>\n",
       "      <th>학년</th>\n",
       "      <th>성별</th>\n",
       "      <th>국어</th>\n",
       "      <th>영어</th>\n",
       "      <th>수학</th>\n",
       "      <th>과학</th>\n",
       "    </tr>\n",
       "  </thead>\n",
       "  <tbody>\n",
       "    <tr>\n",
       "      <th>0</th>\n",
       "      <td>철수</td>\n",
       "      <td>1</td>\n",
       "      <td>남자</td>\n",
       "      <td>98</td>\n",
       "      <td>NaN</td>\n",
       "      <td>88.0</td>\n",
       "      <td>64.0</td>\n",
       "    </tr>\n",
       "    <tr>\n",
       "      <th>1</th>\n",
       "      <td>영희</td>\n",
       "      <td>2</td>\n",
       "      <td>여자</td>\n",
       "      <td>88</td>\n",
       "      <td>90.0</td>\n",
       "      <td>62.0</td>\n",
       "      <td>72.0</td>\n",
       "    </tr>\n",
       "    <tr>\n",
       "      <th>2</th>\n",
       "      <td>민수</td>\n",
       "      <td>1</td>\n",
       "      <td>남자</td>\n",
       "      <td>92</td>\n",
       "      <td>70.0</td>\n",
       "      <td>NaN</td>\n",
       "      <td>NaN</td>\n",
       "    </tr>\n",
       "    <tr>\n",
       "      <th>3</th>\n",
       "      <td>수현</td>\n",
       "      <td>3</td>\n",
       "      <td>여자</td>\n",
       "      <td>63</td>\n",
       "      <td>60.0</td>\n",
       "      <td>31.0</td>\n",
       "      <td>70.0</td>\n",
       "    </tr>\n",
       "    <tr>\n",
       "      <th>4</th>\n",
       "      <td>호영</td>\n",
       "      <td>4</td>\n",
       "      <td>남자</td>\n",
       "      <td>120</td>\n",
       "      <td>50.0</td>\n",
       "      <td>NaN</td>\n",
       "      <td>88.0</td>\n",
       "    </tr>\n",
       "  </tbody>\n",
       "</table>\n",
       "</div>"
      ],
      "text/plain": [
       "   이름  학년  성별   국어    영어    수학    과학\n",
       "0  철수   1  남자   98   NaN  88.0  64.0\n",
       "1  영희   2  여자   88  90.0  62.0  72.0\n",
       "2  민수   1  남자   92  70.0   NaN   NaN\n",
       "3  수현   3  여자   63  60.0  31.0  70.0\n",
       "4  호영   4  남자  120  50.0   NaN  88.0"
      ]
     },
     "execution_count": 45,
     "metadata": {},
     "output_type": "execute_result"
    }
   ],
   "source": [
    "# <csv파일>\n",
    "# 데이터를 쉼표(,)로 구분한 데이터 양식\n",
    "\n",
    "# <데이터 프레임 생성시 encoding 오류가 발생하거나 생성된 데이터프레임의 한글데이터가 깨질 경우>\n",
    "# pandas는 기본 인코딩이 utf-8로 설정되어 있다. 허나 한국에서 엑셀을 통해 작업한 csv 파일은 인코딩이 euc-kr로 되어있다.\n",
    "# csv 파일을 통해 생성시 encoding 오류가 나거나 한글이 깨져서 나오면 encoding을 euc-kr로 설정해서 시도해본다.\n",
    "\n",
    "# 첫 번째 줄 데이터가 컬럼의 이름으로 결정된다.\n",
    "df1 = pd.read_csv('data/grade.csv', encoding='euc-kr')\n",
    "df1"
   ]
  },
  {
   "cell_type": "code",
   "execution_count": 46,
   "id": "c8e11f10",
   "metadata": {},
   "outputs": [
    {
     "data": {
      "text/html": [
       "<div>\n",
       "<style scoped>\n",
       "    .dataframe tbody tr th:only-of-type {\n",
       "        vertical-align: middle;\n",
       "    }\n",
       "\n",
       "    .dataframe tbody tr th {\n",
       "        vertical-align: top;\n",
       "    }\n",
       "\n",
       "    .dataframe thead th {\n",
       "        text-align: right;\n",
       "    }\n",
       "</style>\n",
       "<table border=\"1\" class=\"dataframe\">\n",
       "  <thead>\n",
       "    <tr style=\"text-align: right;\">\n",
       "      <th></th>\n",
       "      <th>0</th>\n",
       "      <th>1</th>\n",
       "      <th>2</th>\n",
       "      <th>3</th>\n",
       "      <th>4</th>\n",
       "      <th>5</th>\n",
       "      <th>6</th>\n",
       "    </tr>\n",
       "  </thead>\n",
       "  <tbody>\n",
       "    <tr>\n",
       "      <th>0</th>\n",
       "      <td>이름</td>\n",
       "      <td>학년</td>\n",
       "      <td>성별</td>\n",
       "      <td>국어</td>\n",
       "      <td>영어</td>\n",
       "      <td>수학</td>\n",
       "      <td>과학</td>\n",
       "    </tr>\n",
       "    <tr>\n",
       "      <th>1</th>\n",
       "      <td>철수</td>\n",
       "      <td>1</td>\n",
       "      <td>남자</td>\n",
       "      <td>98</td>\n",
       "      <td>NaN</td>\n",
       "      <td>88</td>\n",
       "      <td>64</td>\n",
       "    </tr>\n",
       "    <tr>\n",
       "      <th>2</th>\n",
       "      <td>영희</td>\n",
       "      <td>2</td>\n",
       "      <td>여자</td>\n",
       "      <td>88</td>\n",
       "      <td>90</td>\n",
       "      <td>62</td>\n",
       "      <td>72</td>\n",
       "    </tr>\n",
       "    <tr>\n",
       "      <th>3</th>\n",
       "      <td>민수</td>\n",
       "      <td>1</td>\n",
       "      <td>남자</td>\n",
       "      <td>92</td>\n",
       "      <td>70</td>\n",
       "      <td>NaN</td>\n",
       "      <td>NaN</td>\n",
       "    </tr>\n",
       "    <tr>\n",
       "      <th>4</th>\n",
       "      <td>수현</td>\n",
       "      <td>3</td>\n",
       "      <td>여자</td>\n",
       "      <td>63</td>\n",
       "      <td>60</td>\n",
       "      <td>31</td>\n",
       "      <td>70</td>\n",
       "    </tr>\n",
       "    <tr>\n",
       "      <th>5</th>\n",
       "      <td>호영</td>\n",
       "      <td>4</td>\n",
       "      <td>남자</td>\n",
       "      <td>120</td>\n",
       "      <td>50</td>\n",
       "      <td>NaN</td>\n",
       "      <td>88</td>\n",
       "    </tr>\n",
       "  </tbody>\n",
       "</table>\n",
       "</div>"
      ],
      "text/plain": [
       "    0   1   2    3    4    5    6\n",
       "0  이름  학년  성별   국어   영어   수학   과학\n",
       "1  철수   1  남자   98  NaN   88   64\n",
       "2  영희   2  여자   88   90   62   72\n",
       "3  민수   1  남자   92   70  NaN  NaN\n",
       "4  수현   3  여자   63   60   31   70\n",
       "5  호영   4  남자  120   50  NaN   88"
      ]
     },
     "execution_count": 46,
     "metadata": {},
     "output_type": "execute_result"
    }
   ],
   "source": [
    "# 만약 첫 번째 줄부터 데이터로 되어 있다면\n",
    "df2 = pd.read_csv('data/grade.csv', header=None, encoding='euc-kr')\n",
    "df.columns = ['a1','a2','a3','a4','a5','a6','a7']\n",
    "df2"
   ]
  },
  {
   "cell_type": "code",
   "execution_count": 49,
   "id": "de80555a",
   "metadata": {},
   "outputs": [
    {
     "data": {
      "text/html": [
       "<div>\n",
       "<style scoped>\n",
       "    .dataframe tbody tr th:only-of-type {\n",
       "        vertical-align: middle;\n",
       "    }\n",
       "\n",
       "    .dataframe tbody tr th {\n",
       "        vertical-align: top;\n",
       "    }\n",
       "\n",
       "    .dataframe thead th {\n",
       "        text-align: right;\n",
       "    }\n",
       "</style>\n",
       "<table border=\"1\" class=\"dataframe\">\n",
       "  <thead>\n",
       "    <tr style=\"text-align: right;\">\n",
       "      <th></th>\n",
       "      <th>영희</th>\n",
       "      <th>2</th>\n",
       "      <th>여자</th>\n",
       "      <th>88</th>\n",
       "      <th>90</th>\n",
       "      <th>62</th>\n",
       "      <th>72</th>\n",
       "    </tr>\n",
       "  </thead>\n",
       "  <tbody>\n",
       "    <tr>\n",
       "      <th>0</th>\n",
       "      <td>민수</td>\n",
       "      <td>1</td>\n",
       "      <td>남자</td>\n",
       "      <td>92</td>\n",
       "      <td>70</td>\n",
       "      <td>NaN</td>\n",
       "      <td>NaN</td>\n",
       "    </tr>\n",
       "    <tr>\n",
       "      <th>1</th>\n",
       "      <td>수현</td>\n",
       "      <td>3</td>\n",
       "      <td>여자</td>\n",
       "      <td>63</td>\n",
       "      <td>60</td>\n",
       "      <td>31.0</td>\n",
       "      <td>70.0</td>\n",
       "    </tr>\n",
       "    <tr>\n",
       "      <th>2</th>\n",
       "      <td>호영</td>\n",
       "      <td>4</td>\n",
       "      <td>남자</td>\n",
       "      <td>120</td>\n",
       "      <td>50</td>\n",
       "      <td>NaN</td>\n",
       "      <td>88.0</td>\n",
       "    </tr>\n",
       "  </tbody>\n",
       "</table>\n",
       "</div>"
      ],
      "text/plain": [
       "   영희  2  여자   88  90    62    72\n",
       "0  민수  1  남자   92  70   NaN   NaN\n",
       "1  수현  3  여자   63  60  31.0  70.0\n",
       "2  호영  4  남자  120  50   NaN  88.0"
      ]
     },
     "execution_count": 49,
     "metadata": {},
     "output_type": "execute_result"
    }
   ],
   "source": [
    "# 만약 3번째 줄의 데이터를 컬럼 이름으로 사용하겠다면\n",
    "# 단, 컬럼이름으로 지정된 row 위에 있는 데이터는 사라진다. \n",
    "df3 = pd.read_csv('data/grade.csv', encoding='euc-kr', header= 2)\n",
    "df3"
   ]
  },
  {
   "cell_type": "code",
   "execution_count": 59,
   "id": "ebaa7a63",
   "metadata": {},
   "outputs": [
    {
     "data": {
      "text/html": [
       "<div>\n",
       "<style scoped>\n",
       "    .dataframe tbody tr th:only-of-type {\n",
       "        vertical-align: middle;\n",
       "    }\n",
       "\n",
       "    .dataframe tbody tr th {\n",
       "        vertical-align: top;\n",
       "    }\n",
       "\n",
       "    .dataframe thead th {\n",
       "        text-align: right;\n",
       "    }\n",
       "</style>\n",
       "<table border=\"1\" class=\"dataframe\">\n",
       "  <thead>\n",
       "    <tr style=\"text-align: right;\">\n",
       "      <th></th>\n",
       "      <th>이름</th>\n",
       "      <th>학년</th>\n",
       "      <th>성별</th>\n",
       "      <th>국어</th>\n",
       "      <th>영어</th>\n",
       "      <th>수학</th>\n",
       "      <th>과학</th>\n",
       "    </tr>\n",
       "  </thead>\n",
       "  <tbody>\n",
       "    <tr>\n",
       "      <th>0</th>\n",
       "      <td>철수</td>\n",
       "      <td>1</td>\n",
       "      <td>남자</td>\n",
       "      <td>98</td>\n",
       "      <td>NaN</td>\n",
       "      <td>88.0</td>\n",
       "      <td>64.0</td>\n",
       "    </tr>\n",
       "    <tr>\n",
       "      <th>1</th>\n",
       "      <td>영희</td>\n",
       "      <td>2</td>\n",
       "      <td>여자</td>\n",
       "      <td>88</td>\n",
       "      <td>90.0</td>\n",
       "      <td>62.0</td>\n",
       "      <td>72.0</td>\n",
       "    </tr>\n",
       "    <tr>\n",
       "      <th>2</th>\n",
       "      <td>민수</td>\n",
       "      <td>1</td>\n",
       "      <td>남자</td>\n",
       "      <td>92</td>\n",
       "      <td>70.0</td>\n",
       "      <td>NaN</td>\n",
       "      <td>NaN</td>\n",
       "    </tr>\n",
       "    <tr>\n",
       "      <th>3</th>\n",
       "      <td>수현</td>\n",
       "      <td>3</td>\n",
       "      <td>여자</td>\n",
       "      <td>63</td>\n",
       "      <td>60.0</td>\n",
       "      <td>31.0</td>\n",
       "      <td>70.0</td>\n",
       "    </tr>\n",
       "    <tr>\n",
       "      <th>4</th>\n",
       "      <td>호영</td>\n",
       "      <td>4</td>\n",
       "      <td>남자</td>\n",
       "      <td>120</td>\n",
       "      <td>50.0</td>\n",
       "      <td>NaN</td>\n",
       "      <td>88.0</td>\n",
       "    </tr>\n",
       "  </tbody>\n",
       "</table>\n",
       "</div>"
      ],
      "text/plain": [
       "   이름  학년  성별   국어    영어    수학    과학\n",
       "0  철수   1  남자   98   NaN  88.0  64.0\n",
       "1  영희   2  여자   88  90.0  62.0  72.0\n",
       "2  민수   1  남자   92  70.0   NaN   NaN\n",
       "3  수현   3  여자   63  60.0  31.0  70.0\n",
       "4  호영   4  남자  120  50.0   NaN  88.0"
      ]
     },
     "execution_count": 59,
     "metadata": {},
     "output_type": "execute_result"
    }
   ],
   "source": [
    "# 엑셀 파일을 통한 데이터 프레임 생성\n",
    "# sheet_name : 문자열을 넣을 경우 sheet의 이름이 되고 숫자를 넣을 경우\n",
    "# sheet의 순서(0 부터 시작)을 의미한다.\n",
    "# 생략시 첫 번째 시트로 설정된다.\n",
    "\n",
    "\n",
    "# df1 = pd.read_excel('data/grade.xlsx')\n",
    "# df1 = pd.read_excel('data/grade.xlsx', sheet_name=0)\n",
    "df1 = pd.read_excel('data/grade.xlsx', sheet_name='grade')\n",
    "df1"
   ]
  },
  {
   "cell_type": "code",
   "execution_count": null,
   "id": "69ce1b1f",
   "metadata": {},
   "outputs": [],
   "source": []
  }
 ],
 "metadata": {
  "kernelspec": {
   "display_name": "Python 3",
   "language": "python",
   "name": "python3"
  },
  "language_info": {
   "codemirror_mode": {
    "name": "ipython",
    "version": 3
   },
   "file_extension": ".py",
   "mimetype": "text/x-python",
   "name": "python",
   "nbconvert_exporter": "python",
   "pygments_lexer": "ipython3",
   "version": "3.8.10"
  }
 },
 "nbformat": 4,
 "nbformat_minor": 5
}
