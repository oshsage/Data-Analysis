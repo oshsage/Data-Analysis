{
 "cells": [
  {
   "cell_type": "code",
   "execution_count": 86,
   "id": "3d96e7b3",
   "metadata": {},
   "outputs": [],
   "source": [
    "import pandas as pd\n",
    "import numpy as np\n",
    "import matplotlib.pyplot as plt\n",
    "import seaborn as sns\n",
    "\n",
    "# seaborn에서 제공하는 그래프테마\n",
    "# sns.set_style(\"ticks\")\n",
    "sns.set_style(\"darkgrid\")\n",
    "# sns.set_style(\"whitegrid\")\n",
    "\n",
    "# 그래프를 그리기 위한 기본 설정\n",
    "# 폰트설정 - 윈도우\n",
    "plt.rcParams['font.family'] = 'Malgun Gothic'\n",
    "\n",
    "# 폰트설정 - 맥\n",
    "# plt.rcParams['font.family'] = 'Apple Gothic'\n",
    "\n",
    "# 그래프의 크기\n",
    "plt.rcParams['figure.figsize'] = 16, 8\n",
    "\n",
    "# 글자 크기\n",
    "plt.rcParams['font.size'] = 14\n",
    "\n",
    "# 폰트 설정 시 '-'기호 깨는거 방지하기\n",
    "plt.rcParams['axes.unicode_minus'] = False"
   ]
  },
  {
   "cell_type": "markdown",
   "id": "c7c5272a",
   "metadata": {},
   "source": [
    "- 주식 정보를 가져오기 위한 라이브러리\n",
    "- from pandas_datareader import data"
   ]
  },
  {
   "cell_type": "code",
   "execution_count": 16,
   "id": "9618ab77",
   "metadata": {},
   "outputs": [],
   "source": [
    "from pandas_datareader import data\n",
    "import datetime"
   ]
  },
  {
   "cell_type": "code",
   "execution_count": 17,
   "id": "920f79e9",
   "metadata": {},
   "outputs": [],
   "source": [
    "# 시작날짜\n",
    "start = datetime.datetime(2010, 1, 1)\n",
    "# 종료날짜\n",
    "end = datetime.datetime(2021, 7, 7)\n",
    "\n"
   ]
  },
  {
   "cell_type": "code",
   "execution_count": 18,
   "id": "f5450177",
   "metadata": {},
   "outputs": [
    {
     "ename": "RemoteDataError",
     "evalue": "Unable to read URL: https://finance.yahoo.com/quote/005930.KS/history?period1=1262286000&period2=1625684399&interval=1d&frequency=1d&filter=history\nResponse Text:\nb'<!DOCTYPE html>\\n  <html lang=\"en-us\"><head>\\n  <meta http-equiv=\"content-type\" content=\"text/html; charset=UTF-8\">\\n      <meta charset=\"utf-8\">\\n      <title>Yahoo</title>\\n      <meta name=\"viewport\" content=\"width=device-width,initial-scale=1,minimal-ui\">\\n      <meta http-equiv=\"X-UA-Compatible\" content=\"IE=edge,chrome=1\">\\n      <style>\\n  html {\\n      height: 100%;\\n  }\\n  body {\\n      background: #fafafc url(https://s.yimg.com/nn/img/sad-panda-201402200631.png) 50% 50%;\\n      background-size: cover;\\n      height: 100%;\\n      text-align: center;\\n      font: 300 18px \"helvetica neue\", helvetica, verdana, tahoma, arial, sans-serif;\\n  }\\n  table {\\n      height: 100%;\\n      width: 100%;\\n      table-layout: fixed;\\n      border-collapse: collapse;\\n      border-spacing: 0;\\n      border: none;\\n  }\\n  h1 {\\n      font-size: 42px;\\n      font-weight: 400;\\n      color: #400090;\\n  }\\n  p {\\n      color: #1A1A1A;\\n  }\\n  #message-1 {\\n      font-weight: bold;\\n      margin: 0;\\n  }\\n  #message-2 {\\n      display: inline-block;\\n      *display: inline;\\n      zoom: 1;\\n      max-width: 17em;\\n      _width: 17em;\\n  }\\n      </style>\\n  <script>\\n    document.write(\\'<img src=\"//geo.yahoo.com/b?s=1197757129&t=\\'+new Date().getTime()+\\'&src=aws&err_url=\\'+encodeURIComponent(document.URL)+\\'&err=%<pssc>&test=\\'+encodeURIComponent(\\'%<{Bucket}cqh[:200]>\\')+\\'\" width=\"0px\" height=\"0px\"/>\\');var beacon = new Image();beacon.src=\"//bcn.fp.yahoo.com/p?s=1197757129&t=\"+new Date().getTime()+\"&src=aws&err_url=\"+encodeURIComponent(document.URL)+\"&err=%<pssc>&test=\"+encodeURIComponent(\\'%<{Bucket}cqh[:200]>\\');\\n  </script>\\n  </head>\\n  <body>\\n  <!-- status code : 404 -->\\n  <!-- Not Found on Server -->\\n  <table>\\n  <tbody><tr>\\n      <td>\\n      <img src=\"https://s.yimg.com/rz/p/yahoo_frontpage_en-US_s_f_p_205x58_frontpage.png\" alt=\"Yahoo Logo\">\\n      <h1 style=\"margin-top:20px;\">Will be right back...</h1>\\n      <p id=\"message-1\">Thank you for your patience.</p>\\n      <p id=\"message-2\">Our engineers are working quickly to resolve the issue.</p>\\n      </td>\\n  </tr>\\n  </tbody></table>\\n  </body></html>'",
     "output_type": "error",
     "traceback": [
      "\u001b[1;31m---------------------------------------------------------------------------\u001b[0m",
      "\u001b[1;31mRemoteDataError\u001b[0m                           Traceback (most recent call last)",
      "\u001b[1;32m<ipython-input-18-bc16a4f6f6e5>\u001b[0m in \u001b[0;36m<module>\u001b[1;34m\u001b[0m\n\u001b[0;32m      1\u001b[0m \u001b[1;31m# 삼성전자 주식 데이터를 읽어온다.\u001b[0m\u001b[1;33m\u001b[0m\u001b[1;33m\u001b[0m\u001b[1;33m\u001b[0m\u001b[0m\n\u001b[1;32m----> 2\u001b[1;33m \u001b[0mf\u001b[0m \u001b[1;33m=\u001b[0m \u001b[0mdata\u001b[0m\u001b[1;33m.\u001b[0m\u001b[0mDataReader\u001b[0m\u001b[1;33m(\u001b[0m\u001b[1;34m'005930.KS'\u001b[0m\u001b[1;33m,\u001b[0m \u001b[1;34m'yahoo'\u001b[0m\u001b[1;33m,\u001b[0m \u001b[0mstart\u001b[0m\u001b[1;33m,\u001b[0m \u001b[0mend\u001b[0m\u001b[1;33m)\u001b[0m\u001b[1;33m\u001b[0m\u001b[1;33m\u001b[0m\u001b[0m\n\u001b[0m\u001b[0;32m      3\u001b[0m \u001b[1;31m# f = data.get_data_yahoo('005930.KS', start,end)\u001b[0m\u001b[1;33m\u001b[0m\u001b[1;33m\u001b[0m\u001b[1;33m\u001b[0m\u001b[0m\n",
      "\u001b[1;32m~\\anaconda3\\lib\\site-packages\\pandas\\util\\_decorators.py\u001b[0m in \u001b[0;36mwrapper\u001b[1;34m(*args, **kwargs)\u001b[0m\n\u001b[0;32m    197\u001b[0m                 \u001b[1;32melse\u001b[0m\u001b[1;33m:\u001b[0m\u001b[1;33m\u001b[0m\u001b[1;33m\u001b[0m\u001b[0m\n\u001b[0;32m    198\u001b[0m                     \u001b[0mkwargs\u001b[0m\u001b[1;33m[\u001b[0m\u001b[0mnew_arg_name\u001b[0m\u001b[1;33m]\u001b[0m \u001b[1;33m=\u001b[0m \u001b[0mnew_arg_value\u001b[0m\u001b[1;33m\u001b[0m\u001b[1;33m\u001b[0m\u001b[0m\n\u001b[1;32m--> 199\u001b[1;33m             \u001b[1;32mreturn\u001b[0m \u001b[0mfunc\u001b[0m\u001b[1;33m(\u001b[0m\u001b[1;33m*\u001b[0m\u001b[0margs\u001b[0m\u001b[1;33m,\u001b[0m \u001b[1;33m**\u001b[0m\u001b[0mkwargs\u001b[0m\u001b[1;33m)\u001b[0m\u001b[1;33m\u001b[0m\u001b[1;33m\u001b[0m\u001b[0m\n\u001b[0m\u001b[0;32m    200\u001b[0m \u001b[1;33m\u001b[0m\u001b[0m\n\u001b[0;32m    201\u001b[0m         \u001b[1;32mreturn\u001b[0m \u001b[0mcast\u001b[0m\u001b[1;33m(\u001b[0m\u001b[0mF\u001b[0m\u001b[1;33m,\u001b[0m \u001b[0mwrapper\u001b[0m\u001b[1;33m)\u001b[0m\u001b[1;33m\u001b[0m\u001b[1;33m\u001b[0m\u001b[0m\n",
      "\u001b[1;32m~\\anaconda3\\lib\\site-packages\\pandas_datareader\\data.py\u001b[0m in \u001b[0;36mDataReader\u001b[1;34m(name, data_source, start, end, retry_count, pause, session, api_key)\u001b[0m\n\u001b[0;32m    374\u001b[0m \u001b[1;33m\u001b[0m\u001b[0m\n\u001b[0;32m    375\u001b[0m     \u001b[1;32mif\u001b[0m \u001b[0mdata_source\u001b[0m \u001b[1;33m==\u001b[0m \u001b[1;34m\"yahoo\"\u001b[0m\u001b[1;33m:\u001b[0m\u001b[1;33m\u001b[0m\u001b[1;33m\u001b[0m\u001b[0m\n\u001b[1;32m--> 376\u001b[1;33m         return YahooDailyReader(\n\u001b[0m\u001b[0;32m    377\u001b[0m             \u001b[0msymbols\u001b[0m\u001b[1;33m=\u001b[0m\u001b[0mname\u001b[0m\u001b[1;33m,\u001b[0m\u001b[1;33m\u001b[0m\u001b[1;33m\u001b[0m\u001b[0m\n\u001b[0;32m    378\u001b[0m             \u001b[0mstart\u001b[0m\u001b[1;33m=\u001b[0m\u001b[0mstart\u001b[0m\u001b[1;33m,\u001b[0m\u001b[1;33m\u001b[0m\u001b[1;33m\u001b[0m\u001b[0m\n",
      "\u001b[1;32m~\\anaconda3\\lib\\site-packages\\pandas_datareader\\base.py\u001b[0m in \u001b[0;36mread\u001b[1;34m(self)\u001b[0m\n\u001b[0;32m    251\u001b[0m         \u001b[1;31m# If a single symbol, (e.g., 'GOOG')\u001b[0m\u001b[1;33m\u001b[0m\u001b[1;33m\u001b[0m\u001b[1;33m\u001b[0m\u001b[0m\n\u001b[0;32m    252\u001b[0m         \u001b[1;32mif\u001b[0m \u001b[0misinstance\u001b[0m\u001b[1;33m(\u001b[0m\u001b[0mself\u001b[0m\u001b[1;33m.\u001b[0m\u001b[0msymbols\u001b[0m\u001b[1;33m,\u001b[0m \u001b[1;33m(\u001b[0m\u001b[0mstring_types\u001b[0m\u001b[1;33m,\u001b[0m \u001b[0mint\u001b[0m\u001b[1;33m)\u001b[0m\u001b[1;33m)\u001b[0m\u001b[1;33m:\u001b[0m\u001b[1;33m\u001b[0m\u001b[1;33m\u001b[0m\u001b[0m\n\u001b[1;32m--> 253\u001b[1;33m             \u001b[0mdf\u001b[0m \u001b[1;33m=\u001b[0m \u001b[0mself\u001b[0m\u001b[1;33m.\u001b[0m\u001b[0m_read_one_data\u001b[0m\u001b[1;33m(\u001b[0m\u001b[0mself\u001b[0m\u001b[1;33m.\u001b[0m\u001b[0murl\u001b[0m\u001b[1;33m,\u001b[0m \u001b[0mparams\u001b[0m\u001b[1;33m=\u001b[0m\u001b[0mself\u001b[0m\u001b[1;33m.\u001b[0m\u001b[0m_get_params\u001b[0m\u001b[1;33m(\u001b[0m\u001b[0mself\u001b[0m\u001b[1;33m.\u001b[0m\u001b[0msymbols\u001b[0m\u001b[1;33m)\u001b[0m\u001b[1;33m)\u001b[0m\u001b[1;33m\u001b[0m\u001b[1;33m\u001b[0m\u001b[0m\n\u001b[0m\u001b[0;32m    254\u001b[0m         \u001b[1;31m# Or multiple symbols, (e.g., ['GOOG', 'AAPL', 'MSFT'])\u001b[0m\u001b[1;33m\u001b[0m\u001b[1;33m\u001b[0m\u001b[1;33m\u001b[0m\u001b[0m\n\u001b[0;32m    255\u001b[0m         \u001b[1;32melif\u001b[0m \u001b[0misinstance\u001b[0m\u001b[1;33m(\u001b[0m\u001b[0mself\u001b[0m\u001b[1;33m.\u001b[0m\u001b[0msymbols\u001b[0m\u001b[1;33m,\u001b[0m \u001b[0mDataFrame\u001b[0m\u001b[1;33m)\u001b[0m\u001b[1;33m:\u001b[0m\u001b[1;33m\u001b[0m\u001b[1;33m\u001b[0m\u001b[0m\n",
      "\u001b[1;32m~\\anaconda3\\lib\\site-packages\\pandas_datareader\\yahoo\\daily.py\u001b[0m in \u001b[0;36m_read_one_data\u001b[1;34m(self, url, params)\u001b[0m\n\u001b[0;32m    151\u001b[0m         \u001b[0murl\u001b[0m \u001b[1;33m=\u001b[0m \u001b[0murl\u001b[0m\u001b[1;33m.\u001b[0m\u001b[0mformat\u001b[0m\u001b[1;33m(\u001b[0m\u001b[0msymbol\u001b[0m\u001b[1;33m)\u001b[0m\u001b[1;33m\u001b[0m\u001b[1;33m\u001b[0m\u001b[0m\n\u001b[0;32m    152\u001b[0m \u001b[1;33m\u001b[0m\u001b[0m\n\u001b[1;32m--> 153\u001b[1;33m         \u001b[0mresp\u001b[0m \u001b[1;33m=\u001b[0m \u001b[0mself\u001b[0m\u001b[1;33m.\u001b[0m\u001b[0m_get_response\u001b[0m\u001b[1;33m(\u001b[0m\u001b[0murl\u001b[0m\u001b[1;33m,\u001b[0m \u001b[0mparams\u001b[0m\u001b[1;33m=\u001b[0m\u001b[0mparams\u001b[0m\u001b[1;33m)\u001b[0m\u001b[1;33m\u001b[0m\u001b[1;33m\u001b[0m\u001b[0m\n\u001b[0m\u001b[0;32m    154\u001b[0m         \u001b[0mptrn\u001b[0m \u001b[1;33m=\u001b[0m \u001b[1;34mr\"root\\.App\\.main = (.*?);\\n}\\(this\\)\\);\"\u001b[0m\u001b[1;33m\u001b[0m\u001b[1;33m\u001b[0m\u001b[0m\n\u001b[0;32m    155\u001b[0m         \u001b[1;32mtry\u001b[0m\u001b[1;33m:\u001b[0m\u001b[1;33m\u001b[0m\u001b[1;33m\u001b[0m\u001b[0m\n",
      "\u001b[1;32m~\\anaconda3\\lib\\site-packages\\pandas_datareader\\base.py\u001b[0m in \u001b[0;36m_get_response\u001b[1;34m(self, url, params, headers)\u001b[0m\n\u001b[0;32m    179\u001b[0m             \u001b[0mmsg\u001b[0m \u001b[1;33m+=\u001b[0m \u001b[1;34m\"\\nResponse Text:\\n{0}\"\u001b[0m\u001b[1;33m.\u001b[0m\u001b[0mformat\u001b[0m\u001b[1;33m(\u001b[0m\u001b[0mlast_response_text\u001b[0m\u001b[1;33m)\u001b[0m\u001b[1;33m\u001b[0m\u001b[1;33m\u001b[0m\u001b[0m\n\u001b[0;32m    180\u001b[0m \u001b[1;33m\u001b[0m\u001b[0m\n\u001b[1;32m--> 181\u001b[1;33m         \u001b[1;32mraise\u001b[0m \u001b[0mRemoteDataError\u001b[0m\u001b[1;33m(\u001b[0m\u001b[0mmsg\u001b[0m\u001b[1;33m)\u001b[0m\u001b[1;33m\u001b[0m\u001b[1;33m\u001b[0m\u001b[0m\n\u001b[0m\u001b[0;32m    182\u001b[0m \u001b[1;33m\u001b[0m\u001b[0m\n\u001b[0;32m    183\u001b[0m     \u001b[1;32mdef\u001b[0m \u001b[0m_get_crumb\u001b[0m\u001b[1;33m(\u001b[0m\u001b[0mself\u001b[0m\u001b[1;33m,\u001b[0m \u001b[1;33m*\u001b[0m\u001b[0margs\u001b[0m\u001b[1;33m)\u001b[0m\u001b[1;33m:\u001b[0m\u001b[1;33m\u001b[0m\u001b[1;33m\u001b[0m\u001b[0m\n",
      "\u001b[1;31mRemoteDataError\u001b[0m: Unable to read URL: https://finance.yahoo.com/quote/005930.KS/history?period1=1262286000&period2=1625684399&interval=1d&frequency=1d&filter=history\nResponse Text:\nb'<!DOCTYPE html>\\n  <html lang=\"en-us\"><head>\\n  <meta http-equiv=\"content-type\" content=\"text/html; charset=UTF-8\">\\n      <meta charset=\"utf-8\">\\n      <title>Yahoo</title>\\n      <meta name=\"viewport\" content=\"width=device-width,initial-scale=1,minimal-ui\">\\n      <meta http-equiv=\"X-UA-Compatible\" content=\"IE=edge,chrome=1\">\\n      <style>\\n  html {\\n      height: 100%;\\n  }\\n  body {\\n      background: #fafafc url(https://s.yimg.com/nn/img/sad-panda-201402200631.png) 50% 50%;\\n      background-size: cover;\\n      height: 100%;\\n      text-align: center;\\n      font: 300 18px \"helvetica neue\", helvetica, verdana, tahoma, arial, sans-serif;\\n  }\\n  table {\\n      height: 100%;\\n      width: 100%;\\n      table-layout: fixed;\\n      border-collapse: collapse;\\n      border-spacing: 0;\\n      border: none;\\n  }\\n  h1 {\\n      font-size: 42px;\\n      font-weight: 400;\\n      color: #400090;\\n  }\\n  p {\\n      color: #1A1A1A;\\n  }\\n  #message-1 {\\n      font-weight: bold;\\n      margin: 0;\\n  }\\n  #message-2 {\\n      display: inline-block;\\n      *display: inline;\\n      zoom: 1;\\n      max-width: 17em;\\n      _width: 17em;\\n  }\\n      </style>\\n  <script>\\n    document.write(\\'<img src=\"//geo.yahoo.com/b?s=1197757129&t=\\'+new Date().getTime()+\\'&src=aws&err_url=\\'+encodeURIComponent(document.URL)+\\'&err=%<pssc>&test=\\'+encodeURIComponent(\\'%<{Bucket}cqh[:200]>\\')+\\'\" width=\"0px\" height=\"0px\"/>\\');var beacon = new Image();beacon.src=\"//bcn.fp.yahoo.com/p?s=1197757129&t=\"+new Date().getTime()+\"&src=aws&err_url=\"+encodeURIComponent(document.URL)+\"&err=%<pssc>&test=\"+encodeURIComponent(\\'%<{Bucket}cqh[:200]>\\');\\n  </script>\\n  </head>\\n  <body>\\n  <!-- status code : 404 -->\\n  <!-- Not Found on Server -->\\n  <table>\\n  <tbody><tr>\\n      <td>\\n      <img src=\"https://s.yimg.com/rz/p/yahoo_frontpage_en-US_s_f_p_205x58_frontpage.png\" alt=\"Yahoo Logo\">\\n      <h1 style=\"margin-top:20px;\">Will be right back...</h1>\\n      <p id=\"message-1\">Thank you for your patience.</p>\\n      <p id=\"message-2\">Our engineers are working quickly to resolve the issue.</p>\\n      </td>\\n  </tr>\\n  </tbody></table>\\n  </body></html>'"
     ]
    }
   ],
   "source": [
    "# 삼성전자 주식 데이터를 읽어온다.\n",
    "f = data.DataReader('005930.KS', 'yahoo', start, end)\n",
    "# f = data.get_data_yahoo('005930.KS', start,end)"
   ]
  },
  {
   "cell_type": "code",
   "execution_count": 21,
   "id": "7481a352",
   "metadata": {},
   "outputs": [
    {
     "data": {
      "text/html": [
       "<div>\n",
       "<style scoped>\n",
       "    .dataframe tbody tr th:only-of-type {\n",
       "        vertical-align: middle;\n",
       "    }\n",
       "\n",
       "    .dataframe tbody tr th {\n",
       "        vertical-align: top;\n",
       "    }\n",
       "\n",
       "    .dataframe thead th {\n",
       "        text-align: right;\n",
       "    }\n",
       "</style>\n",
       "<table border=\"1\" class=\"dataframe\">\n",
       "  <thead>\n",
       "    <tr style=\"text-align: right;\">\n",
       "      <th></th>\n",
       "      <th>Open</th>\n",
       "      <th>High</th>\n",
       "      <th>Low</th>\n",
       "      <th>Close</th>\n",
       "      <th>Adj Close</th>\n",
       "      <th>Volume</th>\n",
       "    </tr>\n",
       "    <tr>\n",
       "      <th>Date</th>\n",
       "      <th></th>\n",
       "      <th></th>\n",
       "      <th></th>\n",
       "      <th></th>\n",
       "      <th></th>\n",
       "      <th></th>\n",
       "    </tr>\n",
       "  </thead>\n",
       "  <tbody>\n",
       "    <tr>\n",
       "      <th>2010-01-04</th>\n",
       "      <td>16060.0</td>\n",
       "      <td>16180.0</td>\n",
       "      <td>16000.0</td>\n",
       "      <td>16180.0</td>\n",
       "      <td>13134.010742</td>\n",
       "      <td>11950800.0</td>\n",
       "    </tr>\n",
       "    <tr>\n",
       "      <th>2010-01-05</th>\n",
       "      <td>16520.0</td>\n",
       "      <td>16580.0</td>\n",
       "      <td>16300.0</td>\n",
       "      <td>16440.0</td>\n",
       "      <td>13345.065430</td>\n",
       "      <td>27925850.0</td>\n",
       "    </tr>\n",
       "    <tr>\n",
       "      <th>2010-01-06</th>\n",
       "      <td>16580.0</td>\n",
       "      <td>16820.0</td>\n",
       "      <td>16520.0</td>\n",
       "      <td>16820.0</td>\n",
       "      <td>13653.530273</td>\n",
       "      <td>22948850.0</td>\n",
       "    </tr>\n",
       "    <tr>\n",
       "      <th>2010-01-07</th>\n",
       "      <td>16820.0</td>\n",
       "      <td>16820.0</td>\n",
       "      <td>16260.0</td>\n",
       "      <td>16260.0</td>\n",
       "      <td>13198.952148</td>\n",
       "      <td>22107950.0</td>\n",
       "    </tr>\n",
       "    <tr>\n",
       "      <th>2010-01-08</th>\n",
       "      <td>16400.0</td>\n",
       "      <td>16420.0</td>\n",
       "      <td>16120.0</td>\n",
       "      <td>16420.0</td>\n",
       "      <td>13328.830078</td>\n",
       "      <td>14777550.0</td>\n",
       "    </tr>\n",
       "    <tr>\n",
       "      <th>...</th>\n",
       "      <td>...</td>\n",
       "      <td>...</td>\n",
       "      <td>...</td>\n",
       "      <td>...</td>\n",
       "      <td>...</td>\n",
       "      <td>...</td>\n",
       "    </tr>\n",
       "    <tr>\n",
       "      <th>2021-07-01</th>\n",
       "      <td>80500.0</td>\n",
       "      <td>80600.0</td>\n",
       "      <td>80000.0</td>\n",
       "      <td>80100.0</td>\n",
       "      <td>80100.000000</td>\n",
       "      <td>13382882.0</td>\n",
       "    </tr>\n",
       "    <tr>\n",
       "      <th>2021-07-02</th>\n",
       "      <td>80000.0</td>\n",
       "      <td>80400.0</td>\n",
       "      <td>79900.0</td>\n",
       "      <td>80000.0</td>\n",
       "      <td>80000.000000</td>\n",
       "      <td>8753097.0</td>\n",
       "    </tr>\n",
       "    <tr>\n",
       "      <th>2021-07-05</th>\n",
       "      <td>80100.0</td>\n",
       "      <td>80800.0</td>\n",
       "      <td>80000.0</td>\n",
       "      <td>80400.0</td>\n",
       "      <td>80400.000000</td>\n",
       "      <td>8330969.0</td>\n",
       "    </tr>\n",
       "    <tr>\n",
       "      <th>2021-07-06</th>\n",
       "      <td>80600.0</td>\n",
       "      <td>81200.0</td>\n",
       "      <td>80500.0</td>\n",
       "      <td>81200.0</td>\n",
       "      <td>81200.000000</td>\n",
       "      <td>12131651.0</td>\n",
       "    </tr>\n",
       "    <tr>\n",
       "      <th>2021-07-07</th>\n",
       "      <td>81200.0</td>\n",
       "      <td>81300.0</td>\n",
       "      <td>80300.0</td>\n",
       "      <td>80800.0</td>\n",
       "      <td>80800.000000</td>\n",
       "      <td>15992202.0</td>\n",
       "    </tr>\n",
       "  </tbody>\n",
       "</table>\n",
       "<p>2841 rows × 6 columns</p>\n",
       "</div>"
      ],
      "text/plain": [
       "               Open     High      Low    Close     Adj Close      Volume\n",
       "Date                                                                    \n",
       "2010-01-04  16060.0  16180.0  16000.0  16180.0  13134.010742  11950800.0\n",
       "2010-01-05  16520.0  16580.0  16300.0  16440.0  13345.065430  27925850.0\n",
       "2010-01-06  16580.0  16820.0  16520.0  16820.0  13653.530273  22948850.0\n",
       "2010-01-07  16820.0  16820.0  16260.0  16260.0  13198.952148  22107950.0\n",
       "2010-01-08  16400.0  16420.0  16120.0  16420.0  13328.830078  14777550.0\n",
       "...             ...      ...      ...      ...           ...         ...\n",
       "2021-07-01  80500.0  80600.0  80000.0  80100.0  80100.000000  13382882.0\n",
       "2021-07-02  80000.0  80400.0  79900.0  80000.0  80000.000000   8753097.0\n",
       "2021-07-05  80100.0  80800.0  80000.0  80400.0  80400.000000   8330969.0\n",
       "2021-07-06  80600.0  81200.0  80500.0  81200.0  81200.000000  12131651.0\n",
       "2021-07-07  81200.0  81300.0  80300.0  80800.0  80800.000000  15992202.0\n",
       "\n",
       "[2841 rows x 6 columns]"
      ]
     },
     "execution_count": 21,
     "metadata": {},
     "output_type": "execute_result"
    }
   ],
   "source": [
    "# 내려받은 csv 파일을읽어온다.\n",
    "f = pd.read_csv('data2/005930.KS.csv')\n",
    "cel = f.set_index('Date')\n",
    "cel"
   ]
  },
  {
   "cell_type": "code",
   "execution_count": 22,
   "id": "6933acbd",
   "metadata": {},
   "outputs": [
    {
     "data": {
      "text/plain": [
       "Index(['2010-01-04', '2010-01-05', '2010-01-06', '2010-01-07', '2010-01-08',\n",
       "       '2010-01-11', '2010-01-12', '2010-01-13', '2010-01-14', '2010-01-15',\n",
       "       ...\n",
       "       '2021-06-24', '2021-06-25', '2021-06-28', '2021-06-29', '2021-06-30',\n",
       "       '2021-07-01', '2021-07-02', '2021-07-05', '2021-07-06', '2021-07-07'],\n",
       "      dtype='object', name='Date', length=2841)"
      ]
     },
     "execution_count": 22,
     "metadata": {},
     "output_type": "execute_result"
    }
   ],
   "source": [
    "# 인덱스의 데이터 타입을 확인한다.\n",
    "# dtype을 확인한다: 현재는 그냥 문자열\n",
    "cel.index"
   ]
  },
  {
   "cell_type": "code",
   "execution_count": 23,
   "id": "9ad15288",
   "metadata": {},
   "outputs": [
    {
     "name": "stdout",
     "output_type": "stream",
     "text": [
      "<class 'pandas.core.frame.DataFrame'>\n",
      "Index: 2841 entries, 2010-01-04 to 2021-07-07\n",
      "Data columns (total 6 columns):\n",
      " #   Column     Non-Null Count  Dtype  \n",
      "---  ------     --------------  -----  \n",
      " 0   Open       2836 non-null   float64\n",
      " 1   High       2836 non-null   float64\n",
      " 2   Low        2836 non-null   float64\n",
      " 3   Close      2836 non-null   float64\n",
      " 4   Adj Close  2836 non-null   float64\n",
      " 5   Volume     2836 non-null   float64\n",
      "dtypes: float64(6)\n",
      "memory usage: 155.4+ KB\n"
     ]
    }
   ],
   "source": [
    "# 컬럼들의 데이터 타입을 확인한다.\n",
    "cel.info()"
   ]
  },
  {
   "cell_type": "code",
   "execution_count": 24,
   "id": "c752c32f",
   "metadata": {},
   "outputs": [
    {
     "data": {
      "text/plain": [
       "DatetimeIndex(['2010-01-04', '2010-01-05', '2010-01-06', '2010-01-07',\n",
       "               '2010-01-08', '2010-01-11', '2010-01-12', '2010-01-13',\n",
       "               '2010-01-14', '2010-01-15',\n",
       "               ...\n",
       "               '2021-06-24', '2021-06-25', '2021-06-28', '2021-06-29',\n",
       "               '2021-06-30', '2021-07-01', '2021-07-02', '2021-07-05',\n",
       "               '2021-07-06', '2021-07-07'],\n",
       "              dtype='datetime64[ns]', name='Date', length=2841, freq=None)"
      ]
     },
     "execution_count": 24,
     "metadata": {},
     "output_type": "execute_result"
    }
   ],
   "source": [
    "# 인덱스를 날짜 타입으로 변경한다.\n",
    "cel.index = pd.to_datetime(cel.index, format='%Y-%m-%d')\n",
    "cel.index"
   ]
  },
  {
   "cell_type": "markdown",
   "id": "bc3c4654",
   "metadata": {},
   "source": [
    "### 주식 데이터 확인"
   ]
  },
  {
   "cell_type": "code",
   "execution_count": 25,
   "id": "d7780fb2",
   "metadata": {},
   "outputs": [
    {
     "name": "stdout",
     "output_type": "stream",
     "text": [
      "<class 'pandas.core.frame.DataFrame'>\n",
      "DatetimeIndex: 2841 entries, 2010-01-04 to 2021-07-07\n",
      "Data columns (total 6 columns):\n",
      " #   Column     Non-Null Count  Dtype  \n",
      "---  ------     --------------  -----  \n",
      " 0   Open       2836 non-null   float64\n",
      " 1   High       2836 non-null   float64\n",
      " 2   Low        2836 non-null   float64\n",
      " 3   Close      2836 non-null   float64\n",
      " 4   Adj Close  2836 non-null   float64\n",
      " 5   Volume     2836 non-null   float64\n",
      "dtypes: float64(6)\n",
      "memory usage: 155.4 KB\n"
     ]
    }
   ],
   "source": [
    "cel.info()"
   ]
  },
  {
   "cell_type": "code",
   "execution_count": 26,
   "id": "f766c072",
   "metadata": {},
   "outputs": [
    {
     "data": {
      "text/plain": [
       "Open         5\n",
       "High         5\n",
       "Low          5\n",
       "Close        5\n",
       "Adj Close    5\n",
       "Volume       5\n",
       "dtype: int64"
      ]
     },
     "execution_count": 26,
     "metadata": {},
     "output_type": "execute_result"
    }
   ],
   "source": [
    "# 결측치 확인\n",
    "cel.isna().sum()"
   ]
  },
  {
   "cell_type": "code",
   "execution_count": 28,
   "id": "995c0346",
   "metadata": {},
   "outputs": [
    {
     "data": {
      "text/html": [
       "<div>\n",
       "<style scoped>\n",
       "    .dataframe tbody tr th:only-of-type {\n",
       "        vertical-align: middle;\n",
       "    }\n",
       "\n",
       "    .dataframe tbody tr th {\n",
       "        vertical-align: top;\n",
       "    }\n",
       "\n",
       "    .dataframe thead th {\n",
       "        text-align: right;\n",
       "    }\n",
       "</style>\n",
       "<table border=\"1\" class=\"dataframe\">\n",
       "  <thead>\n",
       "    <tr style=\"text-align: right;\">\n",
       "      <th></th>\n",
       "      <th>Open</th>\n",
       "      <th>High</th>\n",
       "      <th>Low</th>\n",
       "      <th>Close</th>\n",
       "      <th>Adj Close</th>\n",
       "      <th>Volume</th>\n",
       "    </tr>\n",
       "    <tr>\n",
       "      <th>Date</th>\n",
       "      <th></th>\n",
       "      <th></th>\n",
       "      <th></th>\n",
       "      <th></th>\n",
       "      <th></th>\n",
       "      <th></th>\n",
       "    </tr>\n",
       "  </thead>\n",
       "  <tbody>\n",
       "    <tr>\n",
       "      <th>2017-11-16</th>\n",
       "      <td>NaN</td>\n",
       "      <td>NaN</td>\n",
       "      <td>NaN</td>\n",
       "      <td>NaN</td>\n",
       "      <td>NaN</td>\n",
       "      <td>NaN</td>\n",
       "    </tr>\n",
       "    <tr>\n",
       "      <th>2017-11-23</th>\n",
       "      <td>NaN</td>\n",
       "      <td>NaN</td>\n",
       "      <td>NaN</td>\n",
       "      <td>NaN</td>\n",
       "      <td>NaN</td>\n",
       "      <td>NaN</td>\n",
       "    </tr>\n",
       "    <tr>\n",
       "      <th>2018-01-02</th>\n",
       "      <td>NaN</td>\n",
       "      <td>NaN</td>\n",
       "      <td>NaN</td>\n",
       "      <td>NaN</td>\n",
       "      <td>NaN</td>\n",
       "      <td>NaN</td>\n",
       "    </tr>\n",
       "    <tr>\n",
       "      <th>2018-11-15</th>\n",
       "      <td>NaN</td>\n",
       "      <td>NaN</td>\n",
       "      <td>NaN</td>\n",
       "      <td>NaN</td>\n",
       "      <td>NaN</td>\n",
       "      <td>NaN</td>\n",
       "    </tr>\n",
       "    <tr>\n",
       "      <th>2019-11-14</th>\n",
       "      <td>NaN</td>\n",
       "      <td>NaN</td>\n",
       "      <td>NaN</td>\n",
       "      <td>NaN</td>\n",
       "      <td>NaN</td>\n",
       "      <td>NaN</td>\n",
       "    </tr>\n",
       "  </tbody>\n",
       "</table>\n",
       "</div>"
      ],
      "text/plain": [
       "            Open  High  Low  Close  Adj Close  Volume\n",
       "Date                                                 \n",
       "2017-11-16   NaN   NaN  NaN    NaN        NaN     NaN\n",
       "2017-11-23   NaN   NaN  NaN    NaN        NaN     NaN\n",
       "2018-01-02   NaN   NaN  NaN    NaN        NaN     NaN\n",
       "2018-11-15   NaN   NaN  NaN    NaN        NaN     NaN\n",
       "2019-11-14   NaN   NaN  NaN    NaN        NaN     NaN"
      ]
     },
     "execution_count": 28,
     "metadata": {},
     "output_type": "execute_result"
    }
   ],
   "source": [
    "# 결측치 찾기\n",
    "cel[cel['Open'].isna()]"
   ]
  },
  {
   "cell_type": "code",
   "execution_count": 29,
   "id": "607d4e79",
   "metadata": {},
   "outputs": [
    {
     "data": {
      "text/plain": [
       "Open         0\n",
       "High         0\n",
       "Low          0\n",
       "Close        0\n",
       "Adj Close    0\n",
       "Volume       0\n",
       "dtype: int64"
      ]
     },
     "execution_count": 29,
     "metadata": {},
     "output_type": "execute_result"
    }
   ],
   "source": [
    "# 결측치는 제거하겠다.\n",
    "cel.dropna(inplace=True)\n",
    "cel.isna().sum()"
   ]
  },
  {
   "cell_type": "markdown",
   "id": "03a8deb8",
   "metadata": {},
   "source": [
    "### 일별 수익률 계산"
   ]
  },
  {
   "cell_type": "code",
   "execution_count": 32,
   "id": "5c7ec708",
   "metadata": {},
   "outputs": [
    {
     "data": {
      "text/html": [
       "<div>\n",
       "<style scoped>\n",
       "    .dataframe tbody tr th:only-of-type {\n",
       "        vertical-align: middle;\n",
       "    }\n",
       "\n",
       "    .dataframe tbody tr th {\n",
       "        vertical-align: top;\n",
       "    }\n",
       "\n",
       "    .dataframe thead th {\n",
       "        text-align: right;\n",
       "    }\n",
       "</style>\n",
       "<table border=\"1\" class=\"dataframe\">\n",
       "  <thead>\n",
       "    <tr style=\"text-align: right;\">\n",
       "      <th></th>\n",
       "      <th>Open</th>\n",
       "      <th>High</th>\n",
       "      <th>Low</th>\n",
       "      <th>Close</th>\n",
       "      <th>Adj Close</th>\n",
       "      <th>Volume</th>\n",
       "    </tr>\n",
       "    <tr>\n",
       "      <th>Date</th>\n",
       "      <th></th>\n",
       "      <th></th>\n",
       "      <th></th>\n",
       "      <th></th>\n",
       "      <th></th>\n",
       "      <th></th>\n",
       "    </tr>\n",
       "  </thead>\n",
       "  <tbody>\n",
       "    <tr>\n",
       "      <th>2010-01-04</th>\n",
       "      <td>16060.0</td>\n",
       "      <td>16180.0</td>\n",
       "      <td>16000.0</td>\n",
       "      <td>16180.0</td>\n",
       "      <td>13134.010742</td>\n",
       "      <td>11950800.0</td>\n",
       "    </tr>\n",
       "    <tr>\n",
       "      <th>2010-01-05</th>\n",
       "      <td>16520.0</td>\n",
       "      <td>16580.0</td>\n",
       "      <td>16300.0</td>\n",
       "      <td>16440.0</td>\n",
       "      <td>13345.065430</td>\n",
       "      <td>27925850.0</td>\n",
       "    </tr>\n",
       "    <tr>\n",
       "      <th>2010-01-06</th>\n",
       "      <td>16580.0</td>\n",
       "      <td>16820.0</td>\n",
       "      <td>16520.0</td>\n",
       "      <td>16820.0</td>\n",
       "      <td>13653.530273</td>\n",
       "      <td>22948850.0</td>\n",
       "    </tr>\n",
       "    <tr>\n",
       "      <th>2010-01-07</th>\n",
       "      <td>16820.0</td>\n",
       "      <td>16820.0</td>\n",
       "      <td>16260.0</td>\n",
       "      <td>16260.0</td>\n",
       "      <td>13198.952148</td>\n",
       "      <td>22107950.0</td>\n",
       "    </tr>\n",
       "    <tr>\n",
       "      <th>2010-01-08</th>\n",
       "      <td>16400.0</td>\n",
       "      <td>16420.0</td>\n",
       "      <td>16120.0</td>\n",
       "      <td>16420.0</td>\n",
       "      <td>13328.830078</td>\n",
       "      <td>14777550.0</td>\n",
       "    </tr>\n",
       "  </tbody>\n",
       "</table>\n",
       "</div>"
      ],
      "text/plain": [
       "               Open     High      Low    Close     Adj Close      Volume\n",
       "Date                                                                    \n",
       "2010-01-04  16060.0  16180.0  16000.0  16180.0  13134.010742  11950800.0\n",
       "2010-01-05  16520.0  16580.0  16300.0  16440.0  13345.065430  27925850.0\n",
       "2010-01-06  16580.0  16820.0  16520.0  16820.0  13653.530273  22948850.0\n",
       "2010-01-07  16820.0  16820.0  16260.0  16260.0  13198.952148  22107950.0\n",
       "2010-01-08  16400.0  16420.0  16120.0  16420.0  13328.830078  14777550.0"
      ]
     },
     "execution_count": 32,
     "metadata": {},
     "output_type": "execute_result"
    }
   ],
   "source": [
    "cel.head()"
   ]
  },
  {
   "cell_type": "code",
   "execution_count": 30,
   "id": "7e43b705",
   "metadata": {},
   "outputs": [
    {
     "data": {
      "text/plain": [
       "Date\n",
       "2010-01-04      NaN\n",
       "2010-01-05    260.0\n",
       "2010-01-06    380.0\n",
       "2010-01-07   -560.0\n",
       "2010-01-08    160.0\n",
       "              ...  \n",
       "2021-07-01   -600.0\n",
       "2021-07-02   -100.0\n",
       "2021-07-05    400.0\n",
       "2021-07-06    800.0\n",
       "2021-07-07   -400.0\n",
       "Name: Close, Length: 2836, dtype: float64"
      ]
     },
     "execution_count": 30,
     "metadata": {},
     "output_type": "execute_result"
    }
   ],
   "source": [
    "# 이전 데이터와 얼마나 차이가 나는가?\n",
    "cel['Close'].diff()"
   ]
  },
  {
   "cell_type": "code",
   "execution_count": 31,
   "id": "fa974b53",
   "metadata": {},
   "outputs": [
    {
     "data": {
      "text/plain": [
       "Date\n",
       "2010-01-04         NaN\n",
       "2010-01-05    0.016069\n",
       "2010-01-06    0.023114\n",
       "2010-01-07   -0.033294\n",
       "2010-01-08    0.009840\n",
       "                ...   \n",
       "2021-07-01   -0.007435\n",
       "2021-07-02   -0.001248\n",
       "2021-07-05    0.005000\n",
       "2021-07-06    0.009950\n",
       "2021-07-07   -0.004926\n",
       "Name: Close, Length: 2836, dtype: float64"
      ]
     },
     "execution_count": 31,
     "metadata": {},
     "output_type": "execute_result"
    }
   ],
   "source": [
    "# 이전보다 몇 퍼센트 정도 등락했는지 (-1 ~ 1)\n",
    "cel['Close'].pct_change()"
   ]
  },
  {
   "cell_type": "code",
   "execution_count": 36,
   "id": "ae43c34e",
   "metadata": {},
   "outputs": [
    {
     "name": "stdout",
     "output_type": "stream",
     "text": [
      "-3000.0\n",
      "5900.0\n"
     ]
    }
   ],
   "source": [
    "# diff 에 대한 시각화\n",
    "a1 = cel['Close'].diff()\n",
    "\n",
    "# 최소와 최대값을 구한다.\n",
    "a1_min = a1.min()\n",
    "a1_max = a1.max()\n",
    "print(a1_min)\n",
    "print(a1_max)"
   ]
  },
  {
   "cell_type": "code",
   "execution_count": 54,
   "id": "4106482c",
   "metadata": {},
   "outputs": [
    {
     "name": "stdout",
     "output_type": "stream",
     "text": [
      "<BarContainer object of 2836 artists>\n"
     ]
    },
    {
     "data": {
      "image/png": "[encoded data removed]",
      "text/plain": [
       "<Figure size 864x432 with 1 Axes>"
      ]
     },
     "metadata": {},
     "output_type": "display_data"
    }
   ],
   "source": [
    "# 막대 그래프를 그린다. 반환으로 막대들을 관리할 수 있는 객체를 받는다.\n",
    "bar_list = plt.bar(a1.index, a1.values)\n",
    "print(bar_list)\n",
    "\n",
    "# 값이 0보다 크면 빨간색, 작으면 파란색으로 설정한다.\n",
    "for idx, value in enumerate(a1.values):\n",
    "    if value > 0:\n",
    "        bar_list[idx].set_color('r')\n",
    "    elif value <0:\n",
    "        bar_list[idx].set_color('b')\n",
    "plt.ylim(-6000, 6000)\n",
    "plt.show()"
   ]
  },
  {
   "cell_type": "code",
   "execution_count": 56,
   "id": "fc70624a",
   "metadata": {},
   "outputs": [
    {
     "name": "stdout",
     "output_type": "stream",
     "text": [
      "<BarContainer object of 2836 artists>\n"
     ]
    },
    {
     "data": {
      "image/png": "[encoded data removed]",
      "text/plain": [
       "<Figure size 864x432 with 1 Axes>"
      ]
     },
     "metadata": {},
     "output_type": "display_data"
    }
   ],
   "source": [
    "# 절대값 그래프\n",
    "# 막대 그래프를 그린다. 반환으로 막대들을 관리할 수 있는 객체를 받는다.\n",
    "bar_list = plt.bar(a1.index, abs(a1.values))\n",
    "print(bar_list)\n",
    "\n",
    "# 값이 0보다 크면 빨간색, 작으면 파란색으로 설정한다.\n",
    "for idx, value in enumerate(a1.values):\n",
    "    if value > 0:\n",
    "        bar_list[idx].set_color('r')\n",
    "    elif value <0:\n",
    "        bar_list[idx].set_color('b')\n",
    "\n",
    "plt.show()"
   ]
  },
  {
   "cell_type": "code",
   "execution_count": 59,
   "id": "ab893123",
   "metadata": {},
   "outputs": [
    {
     "data": {
      "text/plain": [
       "Date\n",
       "2010-01-04         NaN\n",
       "2010-01-05    1.606922\n",
       "2010-01-06    2.311436\n",
       "2010-01-07   -3.329370\n",
       "2010-01-08    0.984010\n",
       "                ...   \n",
       "2021-07-01   -0.743494\n",
       "2021-07-02   -0.124844\n",
       "2021-07-05    0.500000\n",
       "2021-07-06    0.995025\n",
       "2021-07-07   -0.492611\n",
       "Name: Close, Length: 2836, dtype: float64"
      ]
     },
     "execution_count": 59,
     "metadata": {},
     "output_type": "execute_result"
    }
   ],
   "source": [
    "# 이전보다 몇 퍼센트 정도 등락했는지 (-1 ~ 1)\n",
    "a1 = cel['Close'].pct_change()\n",
    "a1 = a1 * 100\n",
    "a1"
   ]
  },
  {
   "cell_type": "code",
   "execution_count": 60,
   "id": "93560ae6",
   "metadata": {},
   "outputs": [
    {
     "name": "stdout",
     "output_type": "stream",
     "text": [
      "<BarContainer object of 2836 artists>\n"
     ]
    },
    {
     "data": {
      "image/png": "[encoded data removed]",
      "text/plain": [
       "<Figure size 864x432 with 1 Axes>"
      ]
     },
     "metadata": {},
     "output_type": "display_data"
    }
   ],
   "source": [
    "# 막대 그래프를 그린다. 반환으로 막대들을 관리할 수 있는 객체를 받는다.\n",
    "bar_list = plt.bar(a1.index, a1.values)\n",
    "print(bar_list)\n",
    "\n",
    "# 값이 0보다 크면 빨간색, 작으면 파란색으로 설정한다.\n",
    "for idx, value in enumerate(a1.values):\n",
    "    if value > 0:\n",
    "        bar_list[idx].set_color('r')\n",
    "    elif value <0:\n",
    "        bar_list[idx].set_color('b')\n",
    "\n",
    "plt.show()"
   ]
  },
  {
   "cell_type": "markdown",
   "id": "34a1d759",
   "metadata": {},
   "source": [
    "### 종가를 시각화 한다.\n",
    "- 하위 10% 이하, 상위 90% 이상을 다른 색상으로 표시한다.\n",
    "- 10% 지점, 90%지점에 기주넌을 표시한다.\n",
    "- x 축은 일자, y축은 종가로 표시한다."
   ]
  },
  {
   "cell_type": "code",
   "execution_count": 61,
   "id": "99389319",
   "metadata": {},
   "outputs": [
    {
     "data": {
      "text/plain": [
       "Date\n",
       "2010-01-04    16180.0\n",
       "2010-01-05    16440.0\n",
       "2010-01-06    16820.0\n",
       "2010-01-07    16260.0\n",
       "2010-01-08    16420.0\n",
       "               ...   \n",
       "2021-07-01    80100.0\n",
       "2021-07-02    80000.0\n",
       "2021-07-05    80400.0\n",
       "2021-07-06    81200.0\n",
       "2021-07-07    80800.0\n",
       "Name: Close, Length: 2836, dtype: float64"
      ]
     },
     "execution_count": 61,
     "metadata": {},
     "output_type": "execute_result"
    }
   ],
   "source": [
    "# 종가\n",
    "cel_close = cel['Close']\n",
    "cel_close"
   ]
  },
  {
   "cell_type": "code",
   "execution_count": 62,
   "id": "f7b23953",
   "metadata": {},
   "outputs": [
    {
     "data": {
      "text/plain": [
       "<function matplotlib.pyplot.show(close=None, block=None)>"
      ]
     },
     "execution_count": 62,
     "metadata": {},
     "output_type": "execute_result"
    },
    {
     "data": {
      "image/png": "[encoded data removed]",
      "text/plain": [
       "<Figure size 864x432 with 1 Axes>"
      ]
     },
     "metadata": {},
     "output_type": "display_data"
    }
   ],
   "source": [
    "# 시각화\n",
    "# 데이터ㅡ레임이나 시리즈로 선 그래프를 그리면\n",
    "# index가 x축이 되고 값이 y축으로 지정된다.\n",
    "cel_close.plot(color='black')\n",
    "plt.show"
   ]
  },
  {
   "cell_type": "markdown",
   "id": "084f0089",
   "metadata": {},
   "source": [
    "### 특정 범위를 벗어나는 그래프의 색을 다르게 표시한다.\n",
    "- 10%,90%"
   ]
  },
  {
   "cell_type": "code",
   "execution_count": 64,
   "id": "8820dbe6",
   "metadata": {},
   "outputs": [
    {
     "name": "stdout",
     "output_type": "stream",
     "text": [
      "17000.0\n",
      "55800.0\n"
     ]
    }
   ],
   "source": [
    "value_10 = cel_close.quantile(0.1)\n",
    "value_90 = cel_close.quantile(0.9)\n",
    "\n",
    "print(value_10)\n",
    "print(value_90)"
   ]
  },
  {
   "cell_type": "code",
   "execution_count": 67,
   "id": "894e4625",
   "metadata": {},
   "outputs": [
    {
     "data": {
      "text/plain": [
       "count     2836.000000\n",
       "mean     35346.734838\n",
       "std      16715.539157\n",
       "min      13600.000000\n",
       "10%      17000.000000\n",
       "50%      28730.000000\n",
       "90%      55800.000000\n",
       "max      91000.000000\n",
       "Name: Close, dtype: float64"
      ]
     },
     "execution_count": 67,
     "metadata": {},
     "output_type": "execute_result"
    }
   ],
   "source": [
    "# 요약 통계 정보를 가져온다.\n",
    "cel_close.describe(percentiles=[0.1, 0.9])"
   ]
  },
  {
   "cell_type": "code",
   "execution_count": 70,
   "id": "f91e5f00",
   "metadata": {},
   "outputs": [
    {
     "name": "stdout",
     "output_type": "stream",
     "text": [
      "17000.0\n",
      "55800.0\n"
     ]
    }
   ],
   "source": [
    "# 요약 통계 정보를 가져온다.\n",
    "a1 = cel_close.describe(percentiles=[0.1, 0.9])\n",
    "\n",
    "value_10 = a1['10%']\n",
    "value_90 = a1['90%']\n",
    "\n",
    "print(value_10)\n",
    "print(value_90)"
   ]
  },
  {
   "cell_type": "code",
   "execution_count": 71,
   "id": "c8dbce5b",
   "metadata": {},
   "outputs": [
    {
     "data": {
      "text/plain": [
       "Date\n",
       "2010-01-04     True\n",
       "2010-01-05     True\n",
       "2010-01-06     True\n",
       "2010-01-07     True\n",
       "2010-01-08     True\n",
       "              ...  \n",
       "2021-07-01    False\n",
       "2021-07-02    False\n",
       "2021-07-05    False\n",
       "2021-07-06    False\n",
       "2021-07-07    False\n",
       "Name: Close, Length: 2836, dtype: bool"
      ]
     },
     "execution_count": 71,
     "metadata": {},
     "output_type": "execute_result"
    }
   ],
   "source": [
    "# 10% 이하의 값들\n",
    "a2 = cel_close <= value_10\n",
    "a2"
   ]
  },
  {
   "cell_type": "code",
   "execution_count": 72,
   "id": "383a78af",
   "metadata": {},
   "outputs": [
    {
     "data": {
      "text/plain": [
       "Date\n",
       "2010-01-04    False\n",
       "2010-01-05    False\n",
       "2010-01-06    False\n",
       "2010-01-07    False\n",
       "2010-01-08    False\n",
       "              ...  \n",
       "2021-07-01     True\n",
       "2021-07-02     True\n",
       "2021-07-05     True\n",
       "2021-07-06     True\n",
       "2021-07-07     True\n",
       "Name: Close, Length: 2836, dtype: bool"
      ]
     },
     "execution_count": 72,
     "metadata": {},
     "output_type": "execute_result"
    }
   ],
   "source": [
    "# 90% 이상\n",
    "a3 = cel_close >= value_90\n",
    "a3"
   ]
  },
  {
   "cell_type": "code",
   "execution_count": 73,
   "id": "f48dd1b7",
   "metadata": {},
   "outputs": [
    {
     "data": {
      "text/plain": [
       "Date\n",
       "2010-01-04    True\n",
       "2010-01-05    True\n",
       "2010-01-06    True\n",
       "2010-01-07    True\n",
       "2010-01-08    True\n",
       "              ... \n",
       "2021-07-01    True\n",
       "2021-07-02    True\n",
       "2021-07-05    True\n",
       "2021-07-06    True\n",
       "2021-07-07    True\n",
       "Name: Close, Length: 2836, dtype: bool"
      ]
     },
     "execution_count": 73,
     "metadata": {},
     "output_type": "execute_result"
    }
   ],
   "source": [
    "# 둘을 합친다.\n",
    "a4 = a2 | a3\n",
    "a4"
   ]
  },
  {
   "cell_type": "code",
   "execution_count": 74,
   "id": "12500a64",
   "metadata": {},
   "outputs": [
    {
     "data": {
      "text/plain": [
       "Date\n",
       "2010-01-04    16180.0\n",
       "2010-01-05    16440.0\n",
       "2010-01-06    16820.0\n",
       "2010-01-07    16260.0\n",
       "2010-01-08    16420.0\n",
       "               ...   \n",
       "2021-07-01    80100.0\n",
       "2021-07-02    80000.0\n",
       "2021-07-05    80400.0\n",
       "2021-07-06    81200.0\n",
       "2021-07-07    80800.0\n",
       "Name: Close, Length: 571, dtype: float64"
      ]
     },
     "execution_count": 74,
     "metadata": {},
     "output_type": "execute_result"
    }
   ],
   "source": [
    "# 10% 이하, 90% 이상인 것들을 가져온다.\n",
    "cel_top_bottom = cel_close[a4]\n",
    "cel_top_bottom"
   ]
  },
  {
   "cell_type": "code",
   "execution_count": 87,
   "id": "b4682df1",
   "metadata": {},
   "outputs": [
    {
     "data": {
      "image/png": "[encoded data removed]",
      "text/plain": [
       "<Figure size 1152x576 with 1 Axes>"
      ]
     },
     "metadata": {},
     "output_type": "display_data"
    }
   ],
   "source": [
    "# 시각화\n",
    "# style : 선의 모양. ' '를 주면 선의 모양은 빈칸이 된다.\n",
    "# marker : 마커의 모양\n",
    "# ms : 마커의 크기\n",
    "# color : 색상\n",
    "cel_top_bottom.plot(style = ' ', marker = 'o', ms=4, color='darkgray')\n",
    "plt.show()"
   ]
  },
  {
   "cell_type": "markdown",
   "id": "188dfe63",
   "metadata": {},
   "source": [
    "###  기준선을 그린다."
   ]
  },
  {
   "cell_type": "code",
   "execution_count": null,
   "id": "f996e53e",
   "metadata": {},
   "outputs": [],
   "source": [
    "### x축의 좌표로 사용할 최소 날짜 최대 날짜를 추출한다.\n",
    "index_min = cel_close.index[0]\n",
    "index_max = cel_close.index[-1]\n",
    "\n",
    "print(index_min)\n",
    "print(index_max)"
   ]
  },
  {
   "cell_type": "code",
   "execution_count": 89,
   "id": "4a7f99a0",
   "metadata": {},
   "outputs": [
    {
     "data": {
      "text/plain": [
       "<matplotlib.collections.LineCollection at 0x1f23b265100>"
      ]
     },
     "execution_count": 89,
     "metadata": {},
     "output_type": "execute_result"
    },
    {
     "data": {
      "image/png": "[encoded data removed]",
      "text/plain": [
       "<Figure size 1152x576 with 1 Axes>"
      ]
     },
     "metadata": {},
     "output_type": "display_data"
    }
   ],
   "source": [
    "# 가로선을 그린다.\n",
    "plt.hlines(xmin = index_min, xmax = index_max, y=[value_10, value_90], color='red')"
   ]
  },
  {
   "cell_type": "markdown",
   "id": "e9572683",
   "metadata": {},
   "source": [
    "### 3가지 그래프를 합친다."
   ]
  },
  {
   "cell_type": "code",
   "execution_count": 90,
   "id": "a478c8d4",
   "metadata": {},
   "outputs": [
    {
     "data": {
      "text/plain": [
       "<function matplotlib.pyplot.show(close=None, block=None)>"
      ]
     },
     "execution_count": 90,
     "metadata": {},
     "output_type": "execute_result"
    },
    {
     "data": {
      "image/png": "[encoded data removed]",
      "text/plain": [
       "<Figure size 1152x576 with 1 Axes>"
      ]
     },
     "metadata": {},
     "output_type": "display_data"
    }
   ],
   "source": [
    "cel_close.plot(color='black')\n",
    "cel_top_bottom.plot(style = ' ', marker = 'o', ms=4, color='darkgray')\n",
    "plt.hlines(xmin = index_min, xmax = index_max, y=[value_10, value_90], color='red')\n",
    "plt.show"
   ]
  },
  {
   "cell_type": "markdown",
   "id": "483c80c4",
   "metadata": {},
   "source": [
    "### 통계량 살펴보기"
   ]
  },
  {
   "cell_type": "code",
   "execution_count": 92,
   "id": "77229e86",
   "metadata": {},
   "outputs": [
    {
     "data": {
      "text/plain": [
       "Date\n",
       "2010-01-04         NaN\n",
       "2010-01-05    0.016069\n",
       "2010-01-06    0.023114\n",
       "2010-01-07   -0.033294\n",
       "2010-01-08    0.009840\n",
       "                ...   \n",
       "2021-07-01   -0.007435\n",
       "2021-07-02   -0.001248\n",
       "2021-07-05    0.005000\n",
       "2021-07-06    0.009950\n",
       "2021-07-07   -0.004926\n",
       "Name: Close, Length: 2836, dtype: float64"
      ]
     },
     "execution_count": 92,
     "metadata": {},
     "output_type": "execute_result"
    }
   ],
   "source": [
    "# 각 날짜의 수익률을 가져온다.\n",
    "cel_pct_change = cel['Close'].pct_change()\n",
    "cel_pct_change"
   ]
  },
  {
   "cell_type": "code",
   "execution_count": 93,
   "id": "19b7d68d",
   "metadata": {},
   "outputs": [
    {
     "data": {
      "image/png": "[encoded data removed]",
      "text/plain": [
       "<Figure size 1152x576 with 1 Axes>"
      ]
     },
     "metadata": {},
     "output_type": "display_data"
    }
   ],
   "source": [
    "cel_pct_change.hist(bins=30)\n",
    "plt.show()"
   ]
  },
  {
   "cell_type": "markdown",
   "id": "1825d006",
   "metadata": {},
   "source": [
    "### 첨도\n",
    "- 첨도는 히스토그램에서 분포의 꼬리부분의 길이와 중앙 부분의 뾰족함에 대한 정보를 제공하는 통계량\n",
    "- 첨도가 0보다 크면 긴 꼬리를 갖고 분포가 중앙 부분에 덜 분포되어 있는 것으로 해석된다."
   ]
  },
  {
   "cell_type": "code",
   "execution_count": 96,
   "id": "e51ea2fe",
   "metadata": {},
   "outputs": [
    {
     "data": {
      "text/plain": [
       "1.6307384693281213"
      ]
     },
     "execution_count": 96,
     "metadata": {},
     "output_type": "execute_result"
    }
   ],
   "source": [
    "cel_pct_change.kurt()"
   ]
  },
  {
   "cell_type": "markdown",
   "id": "92a512d4",
   "metadata": {},
   "source": [
    "### 왜도\n",
    "- 분포의 비대칭 정도를 나타내는 값\n",
    "- 분포가 완전 대칭인 경우에는 왜도가 0이다.\n",
    "- 왼쪽으로 긴 꼬리를 가지면 음수이고, 오른쪽을 긴 꼬리를 가지면 양수\n",
    "- 비대칭 정도가 심할 수록 왜도의 절대값이 증가한다."
   ]
  },
  {
   "cell_type": "code",
   "execution_count": null,
   "id": "78f13552",
   "metadata": {},
   "outputs": [],
   "source": []
  }
 ],
 "metadata": {
  "kernelspec": {
   "display_name": "Python 3",
   "language": "python",
   "name": "python3"
  },
  "language_info": {
   "codemirror_mode": {
    "name": "ipython",
    "version": 3
   },
   "file_extension": ".py",
   "mimetype": "text/x-python",
   "name": "python",
   "nbconvert_exporter": "python",
   "pygments_lexer": "ipython3",
   "version": "3.8.10"
  }
 },
 "nbformat": 4,
 "nbformat_minor": 5
}
