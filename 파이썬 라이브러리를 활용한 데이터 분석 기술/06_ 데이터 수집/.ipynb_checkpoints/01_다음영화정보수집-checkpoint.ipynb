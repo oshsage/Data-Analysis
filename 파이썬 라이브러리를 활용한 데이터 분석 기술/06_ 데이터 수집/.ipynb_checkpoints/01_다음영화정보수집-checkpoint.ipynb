{
 "cells": [
  {
   "cell_type": "code",
   "execution_count": 34,
   "id": "191685d9",
   "metadata": {},
   "outputs": [],
   "source": [
    "from selenium import webdriver\n",
    "import requests\n",
    "import time\n",
    "import pandas as pd\n",
    "from IPython.display import clear_output"
   ]
  },
  {
   "cell_type": "code",
   "execution_count": 17,
   "id": "12c56267",
   "metadata": {},
   "outputs": [],
   "source": [
    "# 웹드라이브 실행\n",
    "driver = webdriver.Chrome('chromedriver')"
   ]
  },
  {
   "cell_type": "code",
   "execution_count": 18,
   "id": "97023644",
   "metadata": {},
   "outputs": [],
   "source": [
    "# 다음 영화 사이트를 들어간다.\n",
    "site = 'https://movie.daum.net/premovie/theater'\n",
    "time.sleep(1)\n",
    "driver.get(site)"
   ]
  },
  {
   "cell_type": "code",
   "execution_count": 19,
   "id": "52cfff3a",
   "metadata": {},
   "outputs": [],
   "source": [
    "# 스크롤한다.\n",
    "for idx in range(10):\n",
    "    time.sleep(1)\n",
    "    script = 'window.scrollTo(0, document.body.scrollHeight)'\n",
    "    driver.execute_script(script)"
   ]
  },
  {
   "cell_type": "code",
   "execution_count": 20,
   "id": "d8431190",
   "metadata": {},
   "outputs": [
    {
     "data": {
      "text/plain": [
       "<selenium.webdriver.remote.webelement.WebElement (session=\"1280aac9b11e58e3ba50a9f51e4494ad\", element=\"e4f52d84-36cb-482a-8c03-432f687511c4\")>"
      ]
     },
     "execution_count": 20,
     "metadata": {},
     "output_type": "execute_result"
    }
   ],
   "source": [
    "# 영화 전체 목록을 가져온다.\n",
    "a1 = driver.find_element_by_css_selector('#mainContent > div > div.box_movie > ol')\n",
    "a1"
   ]
  },
  {
   "cell_type": "code",
   "execution_count": 23,
   "id": "c0f54356",
   "metadata": {},
   "outputs": [
    {
     "data": {
      "text/plain": [
       "[<selenium.webdriver.remote.webelement.WebElement (session=\"1280aac9b11e58e3ba50a9f51e4494ad\", element=\"ab8c5e3d-5351-4fe8-ad72-3b11e0e51348\")>,\n",
       " <selenium.webdriver.remote.webelement.WebElement (session=\"1280aac9b11e58e3ba50a9f51e4494ad\", element=\"32dc3311-d4c3-4a83-9c09-69e3d8ed56db\")>,\n",
       " <selenium.webdriver.remote.webelement.WebElement (session=\"1280aac9b11e58e3ba50a9f51e4494ad\", element=\"21c3af57-e205-4f3b-b8f9-38a787e9164d\")>,\n",
       " <selenium.webdriver.remote.webelement.WebElement (session=\"1280aac9b11e58e3ba50a9f51e4494ad\", element=\"63c83caf-6910-4448-8b7c-e282b06537b1\")>,\n",
       " <selenium.webdriver.remote.webelement.WebElement (session=\"1280aac9b11e58e3ba50a9f51e4494ad\", element=\"8aabf706-5005-45c0-9f3b-7963885570f9\")>,\n",
       " <selenium.webdriver.remote.webelement.WebElement (session=\"1280aac9b11e58e3ba50a9f51e4494ad\", element=\"4b2caf55-c73a-44fa-b713-fc4ca013426d\")>,\n",
       " <selenium.webdriver.remote.webelement.WebElement (session=\"1280aac9b11e58e3ba50a9f51e4494ad\", element=\"40362c66-f88b-40d0-8f52-0f4862208d94\")>,\n",
       " <selenium.webdriver.remote.webelement.WebElement (session=\"1280aac9b11e58e3ba50a9f51e4494ad\", element=\"f629ce17-d3c9-464e-b986-a243a4df9799\")>,\n",
       " <selenium.webdriver.remote.webelement.WebElement (session=\"1280aac9b11e58e3ba50a9f51e4494ad\", element=\"a3dacabe-c933-4eaa-a06b-7a651082fd5e\")>,\n",
       " <selenium.webdriver.remote.webelement.WebElement (session=\"1280aac9b11e58e3ba50a9f51e4494ad\", element=\"21ab0b1e-c649-4d9b-9cec-b985f28d13db\")>,\n",
       " <selenium.webdriver.remote.webelement.WebElement (session=\"1280aac9b11e58e3ba50a9f51e4494ad\", element=\"7d26a07c-fe04-4b02-8f5d-811cdac30414\")>,\n",
       " <selenium.webdriver.remote.webelement.WebElement (session=\"1280aac9b11e58e3ba50a9f51e4494ad\", element=\"bb4a598a-4878-473f-b5b5-df2161108eb5\")>,\n",
       " <selenium.webdriver.remote.webelement.WebElement (session=\"1280aac9b11e58e3ba50a9f51e4494ad\", element=\"ba4a3d7b-aebe-4181-8d50-728ba1802354\")>,\n",
       " <selenium.webdriver.remote.webelement.WebElement (session=\"1280aac9b11e58e3ba50a9f51e4494ad\", element=\"f82baccf-c9c6-4e97-b071-3695799e2046\")>,\n",
       " <selenium.webdriver.remote.webelement.WebElement (session=\"1280aac9b11e58e3ba50a9f51e4494ad\", element=\"582ac0fd-0e71-4382-8cfa-d55f2f82c96b\")>,\n",
       " <selenium.webdriver.remote.webelement.WebElement (session=\"1280aac9b11e58e3ba50a9f51e4494ad\", element=\"264be841-4190-46b5-b383-14a216c5363b\")>,\n",
       " <selenium.webdriver.remote.webelement.WebElement (session=\"1280aac9b11e58e3ba50a9f51e4494ad\", element=\"743d642d-dfeb-4d33-89c9-c27320035621\")>,\n",
       " <selenium.webdriver.remote.webelement.WebElement (session=\"1280aac9b11e58e3ba50a9f51e4494ad\", element=\"c70f220f-dee7-48bb-8c12-326be9ba2e43\")>,\n",
       " <selenium.webdriver.remote.webelement.WebElement (session=\"1280aac9b11e58e3ba50a9f51e4494ad\", element=\"6ff6f997-2355-4591-b2b7-b2fe5d5e0d51\")>,\n",
       " <selenium.webdriver.remote.webelement.WebElement (session=\"1280aac9b11e58e3ba50a9f51e4494ad\", element=\"e23cd471-14e7-42aa-a70d-87f809517b32\")>,\n",
       " <selenium.webdriver.remote.webelement.WebElement (session=\"1280aac9b11e58e3ba50a9f51e4494ad\", element=\"7cc99d2d-1957-44aa-82f6-eb0cd64d4fc2\")>,\n",
       " <selenium.webdriver.remote.webelement.WebElement (session=\"1280aac9b11e58e3ba50a9f51e4494ad\", element=\"11b85916-e5d4-465b-997a-7f541187bfc1\")>,\n",
       " <selenium.webdriver.remote.webelement.WebElement (session=\"1280aac9b11e58e3ba50a9f51e4494ad\", element=\"1ece2a44-c03f-47c6-ba87-178eff30b93d\")>,\n",
       " <selenium.webdriver.remote.webelement.WebElement (session=\"1280aac9b11e58e3ba50a9f51e4494ad\", element=\"48e80be2-c602-46ce-8599-1411157759b1\")>,\n",
       " <selenium.webdriver.remote.webelement.WebElement (session=\"1280aac9b11e58e3ba50a9f51e4494ad\", element=\"26bcbd54-f0a8-4837-a095-f54602ad9d65\")>,\n",
       " <selenium.webdriver.remote.webelement.WebElement (session=\"1280aac9b11e58e3ba50a9f51e4494ad\", element=\"118090dc-ec21-4172-a1fe-e2b8d30b45a9\")>,\n",
       " <selenium.webdriver.remote.webelement.WebElement (session=\"1280aac9b11e58e3ba50a9f51e4494ad\", element=\"925525f2-52f0-4af1-bcbc-cda3589abf18\")>,\n",
       " <selenium.webdriver.remote.webelement.WebElement (session=\"1280aac9b11e58e3ba50a9f51e4494ad\", element=\"d650f920-ba0e-4881-a835-52f3a778b0d7\")>,\n",
       " <selenium.webdriver.remote.webelement.WebElement (session=\"1280aac9b11e58e3ba50a9f51e4494ad\", element=\"d2d848e7-3adc-4a91-9c2e-7f419fff3ecc\")>,\n",
       " <selenium.webdriver.remote.webelement.WebElement (session=\"1280aac9b11e58e3ba50a9f51e4494ad\", element=\"26c48d05-3fa8-4feb-ade0-2ab6d85c7388\")>,\n",
       " <selenium.webdriver.remote.webelement.WebElement (session=\"1280aac9b11e58e3ba50a9f51e4494ad\", element=\"f8a48f02-85b3-4c57-977f-b7c7036fd867\")>,\n",
       " <selenium.webdriver.remote.webelement.WebElement (session=\"1280aac9b11e58e3ba50a9f51e4494ad\", element=\"1a91c242-7360-4ae3-a60d-735ae6b773e9\")>,\n",
       " <selenium.webdriver.remote.webelement.WebElement (session=\"1280aac9b11e58e3ba50a9f51e4494ad\", element=\"01f3c856-c51c-4a19-8e20-023c77163612\")>,\n",
       " <selenium.webdriver.remote.webelement.WebElement (session=\"1280aac9b11e58e3ba50a9f51e4494ad\", element=\"8ade2b1b-5b0b-4fc7-a98b-7aaf21556614\")>]"
      ]
     },
     "execution_count": 23,
     "metadata": {},
     "output_type": "execute_result"
    }
   ],
   "source": [
    "# 영화 전체 목록에서 li태그들을 가져온다.\n",
    "li_list = a1.find_elements_by_css_selector('li')\n",
    "li_list"
   ]
  },
  {
   "cell_type": "code",
   "execution_count": 46,
   "id": "71e02b09",
   "metadata": {
    "scrolled": true
   },
   "outputs": [
    {
     "name": "stdout",
     "output_type": "stream",
     "text": [
      "저장완료\n"
     ]
    }
   ],
   "source": [
    "# 데이터를 담을 딕셔너리\n",
    "data_dict = {\n",
    "    '제목' : [],\n",
    "    '예매율' : [],\n",
    "    '평점' : [],\n",
    "    '개봉일' : []\n",
    "}\n",
    "\n",
    "# 영화의 수 만큼 반복한다..\n",
    "for movie_tag in li_list:\n",
    "    # 영화 제목을 가져온다.\n",
    "    title_tag = movie_tag.find_element_by_css_selector('div > div.thumb_cont > strong > a')\n",
    "    title = title_tag.text.strip()\n",
    "    \n",
    "    # 평점\n",
    "    rating_tag = movie_tag.find_element_by_css_selector('div > div.thumb_cont > span.txt_append > span:nth-child(1) > span')\n",
    "    rating = rating_tag.text.strip()\n",
    "    \n",
    "    # 예매율\n",
    "    ticket_tag = movie_tag.find_element_by_css_selector('div > div.thumb_cont > span.txt_append > span:nth-child(2) > span')\n",
    "    ticket = ticket_tag.text.strip()\n",
    "    \n",
    "    # 개봉\n",
    "    open_date_tag = movie_tag.find_element_by_css_selector('div > div.thumb_cont > span.txt_info > span')\n",
    "    open_date = open_date_tag.text.strip()\n",
    "    \n",
    "    # 영화 포스터\n",
    "    poster_tag = movie_tag.find_element_by_css_selector('div > div.thumb_item > div.poster_movie > img')\n",
    "    # src 속성의 값을 가져온다.\n",
    "    src_attr = poster_tag.get_attribute('src')\n",
    "    # print(src_attr)\n",
    "    \n",
    "    # 영화의 제목을 파일명으로 사용할 것이기 때문에 os에서 거부하는 파일명을 정제한다.\n",
    "    char_list = ['\\\\', '/', ':', '*', '?', '\"', '<', '>', '|']\n",
    "    \n",
    "    file_name = title\n",
    "    \n",
    "    for c1 in char_list:\n",
    "        file_name = file_name.replace(c1, ' ')\n",
    "    \n",
    "    # 이미지 데이터를 내려받는다.\n",
    "    img_res = requests.get(src_attr)\n",
    "    \n",
    "    # 저장한다.\n",
    "    with open(f'poster/{file_name}.jpg', 'wb') as fp:\n",
    "            fp.write(img_res.content)\n",
    "\n",
    "    \n",
    "    \n",
    "#     print(f'제목: {title}')\n",
    "#     print(f'평점: {rating}')\n",
    "#     print(f'예매율: {ticket}')\n",
    "#     print(f'개봉일: {release}')\n",
    "#     print('-------------------------')\n",
    "\n",
    "    \n",
    "    # 데이터를 담는다.\n",
    "    data_dict['제목'].append(title)\n",
    "    data_dict['예매율'].append(ticket[:-1])\n",
    "    data_dict['평점'].append(rating)\n",
    "    data_dict['개봉일'].append(open_date)\n",
    "\n",
    "# 데이터 프레임 생성\n",
    "df1 = pd.DataFrame(data_dict)\n",
    "df1\n",
    "\n",
    "# 저장\n",
    "df1.to_csv('daum_movie.csv', encoding='utf-8-sig', index=False)\n",
    "print('저장완료')"
   ]
  },
  {
   "cell_type": "code",
   "execution_count": 37,
   "id": "81e9fb0b",
   "metadata": {},
   "outputs": [
    {
     "name": "stdout",
     "output_type": "stream",
     "text": [
      "<class 'pandas.core.frame.DataFrame'>\n",
      "RangeIndex: 34 entries, 0 to 33\n",
      "Data columns (total 4 columns):\n",
      " #   Column  Non-Null Count  Dtype \n",
      "---  ------  --------------  ----- \n",
      " 0   제목      34 non-null     object\n",
      " 1   예매율     34 non-null     object\n",
      " 2   평점      34 non-null     object\n",
      " 3   개봉일     34 non-null     object\n",
      "dtypes: object(4)\n",
      "memory usage: 1.2+ KB\n"
     ]
    }
   ],
   "source": [
    "df1.info()"
   ]
  },
  {
   "cell_type": "code",
   "execution_count": null,
   "id": "c0d6ee0a",
   "metadata": {},
   "outputs": [],
   "source": []
  }
 ],
 "metadata": {
  "kernelspec": {
   "display_name": "Python 3",
   "language": "python",
   "name": "python3"
  },
  "language_info": {
   "codemirror_mode": {
    "name": "ipython",
    "version": 3
   },
   "file_extension": ".py",
   "mimetype": "text/x-python",
   "name": "python",
   "nbconvert_exporter": "python",
   "pygments_lexer": "ipython3",
   "version": "3.8.10"
  }
 },
 "nbformat": 4,
 "nbformat_minor": 5
}
