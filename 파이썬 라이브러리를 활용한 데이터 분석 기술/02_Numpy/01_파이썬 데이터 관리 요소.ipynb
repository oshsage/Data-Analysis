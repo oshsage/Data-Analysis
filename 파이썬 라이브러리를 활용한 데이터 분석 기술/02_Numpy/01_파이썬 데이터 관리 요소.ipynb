{
 "cells": [
  {
   "cell_type": "markdown",
   "id": "3f8cf7ca",
   "metadata": {},
   "source": [
    "## 변수\n",
    "> 값 하나를 저장하고 저장된 값을 가져다 사용할 수 있도록 제공되는 요소\n",
    "- 메모리에 기억장소가 마련되고 데이터를 저장한다."
   ]
  },
  {
   "cell_type": "code",
   "execution_count": 6,
   "id": "d40f0b4d",
   "metadata": {},
   "outputs": [
    {
     "name": "stdout",
     "output_type": "stream",
     "text": [
      "100\n",
      "11.11\n",
      "True\n",
      "문자열\n",
      "(10+3j)\n",
      "1000000000\n"
     ]
    }
   ],
   "source": [
    "a1 = 100\n",
    "a2 = 11.11\n",
    "a3 = True\n",
    "a4 = '문자열'\n",
    "a5 = 10 + 3j\n",
    "a6 = 1_000_000_000\n",
    "\n",
    "print(a1)\n",
    "print(a2)\n",
    "print(a3)\n",
    "print(a4)\n",
    "print(a5)\n",
    "print(a6)\n"
   ]
  },
  {
   "cell_type": "markdown",
   "id": "99614416",
   "metadata": {},
   "source": [
    " ## 튜플\n",
    " - 인덱스 번호(0 부터 시작)를 통해 데이터를 관리한다.\n",
    " - 읽기 전용\n",
    " - 리스트에 비해 속도가 빠르고 사용량이 적다."
   ]
  },
  {
   "cell_type": "code",
   "execution_count": 7,
   "id": "e2fdd1bb",
   "metadata": {},
   "outputs": [
    {
     "name": "stdout",
     "output_type": "stream",
     "text": [
      "()\n",
      "()\n",
      "(10, 20, 30, 40, 50)\n",
      "(10, 20, 30, 40, 50)\n"
     ]
    }
   ],
   "source": [
    "# 튜플 생성\n",
    "t1 =tuple()\n",
    "t2 = ()\n",
    "t3 = (10,20,30,40,50)\n",
    "t4 = 10,20,30,40,50\n",
    "\n",
    "print(t1)\n",
    "print(t2)\n",
    "print(t3)\n",
    "print(t4)"
   ]
  },
  {
   "cell_type": "code",
   "execution_count": 8,
   "id": "2d5b474e",
   "metadata": {},
   "outputs": [
    {
     "name": "stdout",
     "output_type": "stream",
     "text": [
      "10\n",
      "20\n",
      "30\n",
      "40\n",
      "50\n"
     ]
    }
   ],
   "source": [
    "# 언패킹\n",
    "# 튜플이나 리스트가 가지고 있는 값의 수 만큼 변수를 작성해주면 1:1대응으로 값이 들어간다.\n",
    "a1,a2,a3,a4,a5 = t4\n",
    "print(a1)\n",
    "print(a2)\n",
    "print(a3)\n",
    "print(a4)\n",
    "print(a5)"
   ]
  },
  {
   "cell_type": "code",
   "execution_count": 9,
   "id": "cccb37da",
   "metadata": {},
   "outputs": [],
   "source": [
    "def test1(a1, a2):\n",
    "    r1 = a1+a2\n",
    "    r2 = a1-a2\n",
    "    r3 = a1*a2\n",
    "    r4 = a1//a2\n",
    "    return r1, r2,r3,r4"
   ]
  },
  {
   "cell_type": "code",
   "execution_count": 10,
   "id": "82b0f2c9",
   "metadata": {},
   "outputs": [
    {
     "name": "stdout",
     "output_type": "stream",
     "text": [
      "13\n",
      "7\n",
      "30\n",
      "3\n"
     ]
    }
   ],
   "source": [
    "v1, v2, v3, v4 = test1(10,3)\n",
    "print(v1)\n",
    "print(v2)\n",
    "print(v3)\n",
    "print(v4)"
   ]
  },
  {
   "cell_type": "code",
   "execution_count": 11,
   "id": "5e1c3b4f",
   "metadata": {},
   "outputs": [],
   "source": [
    "t1 = 10,20,30,40"
   ]
  },
  {
   "cell_type": "code",
   "execution_count": 12,
   "id": "1fbd49cd",
   "metadata": {},
   "outputs": [
    {
     "name": "stdout",
     "output_type": "stream",
     "text": [
      "10\n",
      "20\n",
      "30\n",
      "40\n"
     ]
    }
   ],
   "source": [
    "# 인덱싱. 원하는 데이터를 하나 가져오는 것\n",
    "# 0부터 1씩 증가하는 인덱스를 사용한다.\n",
    "\n",
    "print(t1[0])\n",
    "print(t1[1])\n",
    "print(t1[2])\n",
    "print(t1[3])"
   ]
  },
  {
   "cell_type": "code",
   "execution_count": 13,
   "id": "db397fcb",
   "metadata": {},
   "outputs": [
    {
     "name": "stdout",
     "output_type": "stream",
     "text": [
      "(30, 40)\n"
     ]
    }
   ],
   "source": [
    "# 슬라잇싱. 원하는 범위의 해당하는 값을 추출하여 새로운 요소를 생성해서 반환\n",
    "# 2 ~ 5 - 1\n",
    "print(t1[2:5])"
   ]
  },
  {
   "cell_type": "markdown",
   "id": "a9062f72",
   "metadata": {},
   "source": [
    "# 리스트\n",
    "- 기본적으로는 튜플과 동일하다.\n",
    "- 추가, 수정, 삭제 등이 가능하다."
   ]
  },
  {
   "cell_type": "code",
   "execution_count": 14,
   "id": "636f5973",
   "metadata": {},
   "outputs": [],
   "source": [
    "list1 = [10,20,30,40,50]"
   ]
  },
  {
   "cell_type": "code",
   "execution_count": 15,
   "id": "c4b8db04",
   "metadata": {},
   "outputs": [
    {
     "name": "stdout",
     "output_type": "stream",
     "text": [
      "[10, 20, 30, 40, 50]\n",
      "[10, 20, 30, 40, 50, 60, 70]\n"
     ]
    }
   ],
   "source": [
    "# 추가\n",
    "print(list1)\n",
    "list1.append(60)\n",
    "list1.append(70)\n",
    "\n",
    "print(list1)"
   ]
  },
  {
   "cell_type": "code",
   "execution_count": 16,
   "id": "2311999f",
   "metadata": {},
   "outputs": [
    {
     "name": "stdout",
     "output_type": "stream",
     "text": [
      "[10, 20, 30, 40, 50, 60, 70]\n",
      "[10, 20, 30, 40, 50, 60, 70, 80, 90, 100]\n"
     ]
    }
   ],
   "source": [
    "# 다수의 값을 동시에 추가하기\n",
    "print(list1)\n",
    "list1.extend([80,90,100])\n",
    "print(list1)"
   ]
  },
  {
   "cell_type": "code",
   "execution_count": 17,
   "id": "7e8c3b7c",
   "metadata": {},
   "outputs": [
    {
     "name": "stdout",
     "output_type": "stream",
     "text": [
      "[10, 20, 30, 40, 50, 60, 70, 80, 90, 100]\n",
      "[10, 20, 30, 40, 41, 50, 60, 70, 80, 90, 100]\n"
     ]
    }
   ],
   "source": [
    "# 삽입\n",
    "print(list1)\n",
    "\n",
    "list1.insert(4, 41)\n",
    "\n",
    "print(list1)"
   ]
  },
  {
   "cell_type": "code",
   "execution_count": 18,
   "id": "7399ad21",
   "metadata": {},
   "outputs": [
    {
     "name": "stdout",
     "output_type": "stream",
     "text": [
      "[10, 20, 30, 40, 41, 50, 60, 70, 80, 90, 100]\n",
      "[10, 20, 30, 40, 50, 60, 70, 80, 90, 100]\n"
     ]
    }
   ],
   "source": [
    "# 삭제. 인덱스를 통한 삭제\n",
    "print(list1)\n",
    "\n",
    "del list1[4]\n",
    "\n",
    "print(list1)"
   ]
  },
  {
   "cell_type": "code",
   "execution_count": 19,
   "id": "70d80cf6",
   "metadata": {},
   "outputs": [
    {
     "name": "stdout",
     "output_type": "stream",
     "text": [
      "[10, 20, 30, 40, 50, 60, 70, 80, 90, 100]\n",
      "[10, 20, 30, 40, 50, 60, 80, 90, 100]\n"
     ]
    }
   ],
   "source": [
    "# 삭제. 값을 통한 삭제.\n",
    "# 동일한 값이 있을 경우에는 제일 좌측의 값이 삭제\n",
    "print(list1)\n",
    "list1.remove(70)\n",
    "print(list1)"
   ]
  },
  {
   "cell_type": "markdown",
   "id": "3ccd5b36",
   "metadata": {},
   "source": [
    "# 딕셔너리\n",
    "- 데이터를 이름을 가지고 관리한다.\n",
    "- 추가, 수정, 삭제 등이 가능하다.\n",
    "\n",
    "### 관련 함수들\n",
    "- keys(): key값들을 리스트로 가져오기\n",
    "- values(): value값들을 리스트로 가져오기\n",
    "- items(): (key, value) 형태를 리스트로 가져오기\n",
    "- clear(): 쌍 모두 지우기\n",
    "- get(): key로 value 얻기\n",
    "- in: key가 딕셔너리 안에 있는지 조사하기\n"
   ]
  },
  {
   "cell_type": "code",
   "execution_count": 20,
   "id": "42e061ee",
   "metadata": {},
   "outputs": [],
   "source": [
    "d1 = {\n",
    "    'a1': 100,\n",
    "    'a2': 200,\n",
    "    10: '안녕하세요'\n",
    "}"
   ]
  },
  {
   "cell_type": "code",
   "execution_count": 21,
   "id": "c420d143",
   "metadata": {},
   "outputs": [
    {
     "name": "stdout",
     "output_type": "stream",
     "text": [
      "100\n",
      "200\n",
      "안녕하세요\n"
     ]
    }
   ],
   "source": [
    "print(d1['a1'])\n",
    "print(d1['a2'])\n",
    "print(d1[10])"
   ]
  },
  {
   "cell_type": "code",
   "execution_count": 24,
   "id": "67180c98",
   "metadata": {},
   "outputs": [
    {
     "name": "stdout",
     "output_type": "stream",
     "text": [
      "{'a1': 100, 'a2': 200, 10: '안녕하세요', 30: '300'}\n"
     ]
    }
   ],
   "source": [
    "# 추가\n",
    "d1[a3] = '300'\n",
    "print(d1)"
   ]
  },
  {
   "cell_type": "code",
   "execution_count": 26,
   "id": "dc9b6b6d",
   "metadata": {},
   "outputs": [
    {
     "data": {
      "text/plain": [
       "{'a1': 400, 'a2': 200, 10: 400, 30: '300'}"
      ]
     },
     "execution_count": 26,
     "metadata": {},
     "output_type": "execute_result"
    }
   ],
   "source": [
    "# 수정\n",
    "d1['a1'] = 400\n",
    "d1"
   ]
  },
  {
   "cell_type": "code",
   "execution_count": 27,
   "id": "03584f3d",
   "metadata": {},
   "outputs": [
    {
     "data": {
      "text/plain": [
       "{'a1': 400, 10: 400, 30: '300'}"
      ]
     },
     "execution_count": 27,
     "metadata": {},
     "output_type": "execute_result"
    }
   ],
   "source": [
    "# 삭제\n",
    "del d1['a2']\n",
    "d1"
   ]
  },
  {
   "cell_type": "code",
   "execution_count": 33,
   "id": "8e3b3577",
   "metadata": {},
   "outputs": [
    {
     "data": {
      "text/plain": [
       "['a1', 'a2', 10]"
      ]
     },
     "execution_count": 33,
     "metadata": {},
     "output_type": "execute_result"
    }
   ],
   "source": [
    "# 관련함수\n",
    "# keys\n",
    "d1 = {\n",
    "    'a1': 100,\n",
    "    'a2': 200,\n",
    "    10: '안녕하세요'\n",
    "}\n",
    "\n",
    "list_keys = list(d1.keys())\n",
    "list_keys"
   ]
  },
  {
   "cell_type": "code",
   "execution_count": 34,
   "id": "54abe32a",
   "metadata": {},
   "outputs": [
    {
     "data": {
      "text/plain": [
       "[100, 200, '안녕하세요']"
      ]
     },
     "execution_count": 34,
     "metadata": {},
     "output_type": "execute_result"
    }
   ],
   "source": [
    "# values\n",
    "list_values = list(d1.values())\n",
    "list_values"
   ]
  },
  {
   "cell_type": "code",
   "execution_count": 35,
   "id": "4fc8d828",
   "metadata": {},
   "outputs": [
    {
     "data": {
      "text/plain": [
       "[('a1', 100), ('a2', 200), (10, '안녕하세요')]"
      ]
     },
     "execution_count": 35,
     "metadata": {},
     "output_type": "execute_result"
    }
   ],
   "source": [
    "# items\n",
    "list_items = list(d1.items())\n",
    "list_items"
   ]
  },
  {
   "cell_type": "code",
   "execution_count": 37,
   "id": "b06b48a9",
   "metadata": {},
   "outputs": [
    {
     "data": {
      "text/plain": [
       "{}"
      ]
     },
     "execution_count": 37,
     "metadata": {},
     "output_type": "execute_result"
    }
   ],
   "source": [
    "# clear\n",
    "d1.clear()\n",
    "d1"
   ]
  },
  {
   "cell_type": "code",
   "execution_count": 38,
   "id": "70f58846",
   "metadata": {},
   "outputs": [
    {
     "name": "stdout",
     "output_type": "stream",
     "text": [
      "100\n",
      "200\n",
      "None\n"
     ]
    }
   ],
   "source": [
    "# get\n",
    "d1 = {\n",
    "    'a1': 100,\n",
    "    'a2': 200,\n",
    "    10: '안녕하세요'\n",
    "}\n",
    "\n",
    "print(d1.get('a1'))\n",
    "print(d1.get('a2'))\n",
    "print(d1.get('10'))\n"
   ]
  },
  {
   "cell_type": "code",
   "execution_count": 40,
   "id": "a7e03733",
   "metadata": {},
   "outputs": [
    {
     "name": "stdout",
     "output_type": "stream",
     "text": [
      "True\n",
      "True\n",
      "True\n",
      "False\n",
      "False\n"
     ]
    }
   ],
   "source": [
    "# in\n",
    "print('a1' in d1)\n",
    "print('a2' in d1)\n",
    "print(10 in d1)\n",
    "print('a3' in d1)\n",
    "print(40 in d1)"
   ]
  },
  {
   "cell_type": "code",
   "execution_count": null,
   "id": "c2c56b70",
   "metadata": {},
   "outputs": [],
   "source": []
  }
 ],
 "metadata": {
  "kernelspec": {
   "display_name": "Python 3",
   "language": "python",
   "name": "python3"
  },
  "language_info": {
   "codemirror_mode": {
    "name": "ipython",
    "version": 3
   },
   "file_extension": ".py",
   "mimetype": "text/x-python",
   "name": "python",
   "nbconvert_exporter": "python",
   "pygments_lexer": "ipython3",
   "version": "3.8.10"
  }
 },
 "nbformat": 4,
 "nbformat_minor": 5
}
