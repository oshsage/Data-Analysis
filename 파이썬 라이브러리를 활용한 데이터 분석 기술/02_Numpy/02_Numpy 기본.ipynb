{
 "cells": [
  {
   "cell_type": "markdown",
   "id": "c8474934",
   "metadata": {},
   "source": [
    "# Numpy\n",
    "> 파이썬에서 제공하는 list, tuple로는 행렬에 관련된 작업을 하기가 어렵다.\n",
    "- 행렬에 관련된 연산을 위해 제공하는 라이브러리\n",
    "- 수학에서의 행렬에 대한 작업을 할 수 있다."
   ]
  },
  {
   "cell_type": "code",
   "execution_count": 4,
   "id": "e30b8aa6",
   "metadata": {},
   "outputs": [],
   "source": [
    "# 라이브러리를 불러온다.\n",
    "import numpy as np"
   ]
  },
  {
   "cell_type": "code",
   "execution_count": 5,
   "id": "2cfed1be",
   "metadata": {},
   "outputs": [
    {
     "name": "stdout",
     "output_type": "stream",
     "text": [
      "[10, 20, 30, 40, 50, 60, 70, 80, 90, 100]\n",
      "[10, 20, 30, 40, 50, 10, 20, 30, 40, 50, 10, 20, 30, 40, 50]\n"
     ]
    }
   ],
   "source": [
    "# 리스트\n",
    "list1 = [10,20,30,40,50]\n",
    "list2 = [60,70,80,90,100]\n",
    "\n",
    "list3 = list1 + list2\n",
    "print(list3)\n",
    "\n",
    "list4 = list1 * 3\n",
    "print(list4)\n"
   ]
  },
  {
   "cell_type": "code",
   "execution_count": 6,
   "id": "b9047dd2",
   "metadata": {},
   "outputs": [
    {
     "name": "stdout",
     "output_type": "stream",
     "text": [
      "[ 70  90 110 130 150]\n",
      "[ 30  60  90 120 150]\n"
     ]
    }
   ],
   "source": [
    "array1 = np.array([10,20,30,40,50])\n",
    "array2 = np.array([60,70,80,90,100])\n",
    "\n",
    "array3 = array1 + array2\n",
    "print(array3)\n",
    "\n",
    "array4 = array1 * 3\n",
    "print(array4)"
   ]
  },
  {
   "cell_type": "markdown",
   "id": "b13f10e0",
   "metadata": {},
   "source": [
    "# 행렬 생성"
   ]
  },
  {
   "cell_type": "code",
   "execution_count": 7,
   "id": "7f335e2a",
   "metadata": {},
   "outputs": [
    {
     "name": "stdout",
     "output_type": "stream",
     "text": [
      "[10, 20, 30, 40, 50]\n",
      "[10 20 30 40 50]\n"
     ]
    },
    {
     "data": {
      "text/plain": [
       "[10, 20, 30, 40, 50]"
      ]
     },
     "metadata": {},
     "output_type": "display_data"
    },
    {
     "data": {
      "text/plain": [
       "array([10, 20, 30, 40, 50])"
      ]
     },
     "metadata": {},
     "output_type": "display_data"
    }
   ],
   "source": [
    "# 1차원 리스트\n",
    "list1 = [10,20,30,40,50]\n",
    "\n",
    "# 1차원 행렬(함수 안에 리스트나 튜플을 넣어준다)\n",
    "array1 = np.array([10,20,30,40,50])\n",
    "\n",
    "print(list1)\n",
    "print(array1)\n",
    "\n",
    "display(list1)\n",
    "display(array1)"
   ]
  },
  {
   "cell_type": "code",
   "execution_count": 8,
   "id": "3dd93460",
   "metadata": {},
   "outputs": [
    {
     "name": "stdout",
     "output_type": "stream",
     "text": [
      "<class 'list'>\n",
      "<class 'numpy.ndarray'>\n"
     ]
    }
   ],
   "source": [
    "print(type(list1))\n",
    "print(type(array1))"
   ]
  },
  {
   "cell_type": "code",
   "execution_count": 9,
   "id": "b7605510",
   "metadata": {},
   "outputs": [
    {
     "name": "stdout",
     "output_type": "stream",
     "text": [
      "[[1, 2, 3], [4, 5, 6], [7, 8, 9]]\n",
      "[[1 2 3]\n",
      " [4 5 6]\n",
      " [7 8 9]]\n"
     ]
    },
    {
     "data": {
      "text/plain": [
       "[[1, 2, 3], [4, 5, 6], [7, 8, 9]]"
      ]
     },
     "metadata": {},
     "output_type": "display_data"
    },
    {
     "data": {
      "text/plain": [
       "array([[1, 2, 3],\n",
       "       [4, 5, 6],\n",
       "       [7, 8, 9]])"
      ]
     },
     "metadata": {},
     "output_type": "display_data"
    }
   ],
   "source": [
    "# 2차원 리스트\n",
    "list2 = [\n",
    "    [1,2,3],\n",
    "    [4,5,6],\n",
    "    [7,8,9]\n",
    "]\n",
    "\n",
    "# 2차원 행렬\n",
    "array2 = np.array([[1,2,3],[4,5,6],[7,8,9]])\n",
    "\n",
    "print(list2)\n",
    "print(array2)\n",
    "\n",
    "display(list2)\n",
    "display(array2)\n"
   ]
  },
  {
   "cell_type": "markdown",
   "id": "2efdce54",
   "metadata": {},
   "source": [
    "# 행렬과 데이터 타입의 관계\n",
    "- 리스트는 여러 자료형의 데이터를 하나의 리스트에 넣을 수 있지만, 행렬은 하나의 자료형만 넣을 수 있다."
   ]
  },
  {
   "cell_type": "code",
   "execution_count": 10,
   "id": "18927059",
   "metadata": {},
   "outputs": [
    {
     "data": {
      "text/plain": [
       "[True, 100, 11.11, '문자열']"
      ]
     },
     "metadata": {},
     "output_type": "display_data"
    },
    {
     "data": {
      "text/plain": [
       "array(['True', '100', '11.11', '문자열'], dtype='<U32')"
      ]
     },
     "metadata": {},
     "output_type": "display_data"
    }
   ],
   "source": [
    "list1 = [True, 100, 11.11, '문자열']\n",
    "\n",
    "# ndarray는 같은 타입의 값만 담을 수 있다.\n",
    "# 다양한 타입의 값이 섞여 있을 경우 더 많은 값의 종류를 표현할 수 있는 형태로 변환된다.\n",
    "# 논리형 -> 정수 -> 실수 -> 문자열\n",
    "array1 = np.array([True, 100, 11.11, '문자열'])\n",
    "\n",
    "display(list1)\n",
    "display(array1)"
   ]
  },
  {
   "cell_type": "code",
   "execution_count": 11,
   "id": "80f0d104",
   "metadata": {},
   "outputs": [
    {
     "data": {
      "text/plain": [
       "array([0., 1., 2., 3., 4.])"
      ]
     },
     "execution_count": 11,
     "metadata": {},
     "output_type": "execute_result"
    }
   ],
   "source": [
    "# 생성시 타입을 지정할 수 있다.\n",
    "# 정수 : int, 실수: float, 논리: bool, 문자열: str\n",
    "array2 = np.array([0,1,2,3,4], dtype = 'float')\n",
    "array2"
   ]
  },
  {
   "cell_type": "code",
   "execution_count": 12,
   "id": "e8434c09",
   "metadata": {},
   "outputs": [
    {
     "data": {
      "text/plain": [
       "array([False,  True,  True,  True,  True])"
      ]
     },
     "execution_count": 12,
     "metadata": {},
     "output_type": "execute_result"
    }
   ],
   "source": [
    "array3 = np.array([0,1,2,3,4], dtype='bool')\n",
    "array3"
   ]
  },
  {
   "cell_type": "code",
   "execution_count": 13,
   "id": "bab838e2",
   "metadata": {},
   "outputs": [
    {
     "name": "stdout",
     "output_type": "stream",
     "text": [
      "int32\n"
     ]
    }
   ],
   "source": [
    "# 행렬의 타입확인\n",
    "array4 = np.array([0,1,2,3,4])\n",
    "print(array4.dtype)"
   ]
  },
  {
   "cell_type": "code",
   "execution_count": 14,
   "id": "4447a792",
   "metadata": {},
   "outputs": [
    {
     "name": "stdout",
     "output_type": "stream",
     "text": [
      "<U11\n"
     ]
    },
    {
     "data": {
      "text/plain": [
       "array(['0', '1', '2', '3', '4'], dtype='<U11')"
      ]
     },
     "execution_count": 14,
     "metadata": {},
     "output_type": "execute_result"
    }
   ],
   "source": [
    "# 행렬의 타입을 변경한다.\n",
    "array5 = array4.astype('str')\n",
    "print(array5.dtype)\n",
    "array5"
   ]
  },
  {
   "cell_type": "markdown",
   "id": "2440340e",
   "metadata": {},
   "source": [
    "# 특별한 행렬을 만드는 함수들\n",
    "- zeros\n",
    "- ones\n",
    "- full\n",
    "- arange"
   ]
  },
  {
   "cell_type": "code",
   "execution_count": 15,
   "id": "d9f5bc18",
   "metadata": {},
   "outputs": [
    {
     "data": {
      "text/plain": [
       "array([0., 0., 0., 0., 0.])"
      ]
     },
     "metadata": {},
     "output_type": "display_data"
    },
    {
     "data": {
      "text/plain": [
       "array([[0., 0., 0., 0.],\n",
       "       [0., 0., 0., 0.],\n",
       "       [0., 0., 0., 0.]])"
      ]
     },
     "metadata": {},
     "output_type": "display_data"
    }
   ],
   "source": [
    "# 0 행렬: 0으로 구성된 행렬\n",
    "array1 = np.zeros(5)\n",
    "display(array1)\n",
    "\n",
    "array2 = np.zeros([3,4])\n",
    "display(array2)"
   ]
  },
  {
   "cell_type": "code",
   "execution_count": 16,
   "id": "c48f393b",
   "metadata": {},
   "outputs": [
    {
     "data": {
      "text/plain": [
       "array([1., 1., 1., 1., 1.])"
      ]
     },
     "metadata": {},
     "output_type": "display_data"
    },
    {
     "data": {
      "text/plain": [
       "array([[1., 1., 1., 1.],\n",
       "       [1., 1., 1., 1.],\n",
       "       [1., 1., 1., 1.]])"
      ]
     },
     "metadata": {},
     "output_type": "display_data"
    }
   ],
   "source": [
    "# 1로 채워진 행렬\n",
    "array3 = np.ones(5)\n",
    "display(array3)\n",
    "\n",
    "array4 = np.ones([3,4])\n",
    "display(array4)"
   ]
  },
  {
   "cell_type": "code",
   "execution_count": 17,
   "id": "0bd80368",
   "metadata": {},
   "outputs": [
    {
     "data": {
      "text/plain": [
       "array([7, 7, 7, 7, 7])"
      ]
     },
     "metadata": {},
     "output_type": "display_data"
    },
    {
     "data": {
      "text/plain": [
       "array([[7, 7, 7, 7],\n",
       "       [7, 7, 7, 7],\n",
       "       [7, 7, 7, 7]])"
      ]
     },
     "metadata": {},
     "output_type": "display_data"
    }
   ],
   "source": [
    "# 7로 채워진 5개짜리 1차원 행렬\n",
    "array5 = np.full(5, 7)\n",
    "display(array5)\n",
    "\n",
    "# 7이 채워진 3행 4열 2차원 행렬\n",
    "array6 = np.full([3,4], 7)\n",
    "display(array6)"
   ]
  },
  {
   "cell_type": "code",
   "execution_count": 18,
   "id": "1dd0970d",
   "metadata": {},
   "outputs": [
    {
     "data": {
      "text/plain": [
       "array([0, 1, 2, 3, 4, 5])"
      ]
     },
     "metadata": {},
     "output_type": "display_data"
    }
   ],
   "source": [
    "# 특정 범위에 해당하는 가지고 있는 1차원 행렬 생성\n",
    "# 0~6 - 1 까지\n",
    "array7 = np.arange(6)\n",
    "display(array7)\n"
   ]
  },
  {
   "cell_type": "code",
   "execution_count": 19,
   "id": "66f84832",
   "metadata": {},
   "outputs": [
    {
     "data": {
      "text/plain": [
       "array([ 3,  4,  5,  6,  7,  8,  9, 10, 11, 12])"
      ]
     },
     "metadata": {},
     "output_type": "display_data"
    }
   ],
   "source": [
    "# 3~ 13 -1 까지\n",
    "array8 = np.arange(3, 13)\n",
    "display(array8)"
   ]
  },
  {
   "cell_type": "code",
   "execution_count": 20,
   "id": "7dff4d6a",
   "metadata": {},
   "outputs": [
    {
     "data": {
      "text/plain": [
       "array([ 3,  6,  9, 12])"
      ]
     },
     "metadata": {},
     "output_type": "display_data"
    }
   ],
   "source": [
    "# 3~13-1 까지 3씩 증가\n",
    "array9 = np.arange(3,13,3)\n",
    "display(array9)"
   ]
  },
  {
   "cell_type": "markdown",
   "id": "a5afbc9f",
   "metadata": {},
   "source": [
    "# 행렬 계산(산수)\n"
   ]
  },
  {
   "cell_type": "code",
   "execution_count": 21,
   "id": "0d16de2b",
   "metadata": {},
   "outputs": [],
   "source": [
    "array1 = np.array([\n",
    "    [10,20,30],\n",
    "    [40,50,60],\n",
    "    [70,80,90]\n",
    "])\n",
    "\n",
    "array2 = np.array([\n",
    "    [1,2,3],\n",
    "    [4,5,6],\n",
    "    [7,8,9]\n",
    "])"
   ]
  },
  {
   "cell_type": "code",
   "execution_count": 22,
   "id": "529f3aa6",
   "metadata": {},
   "outputs": [
    {
     "data": {
      "text/plain": [
       "array([[11, 22, 33],\n",
       "       [44, 55, 66],\n",
       "       [77, 88, 99]])"
      ]
     },
     "metadata": {},
     "output_type": "display_data"
    },
    {
     "data": {
      "text/plain": [
       "array([[ 9, 18, 27],\n",
       "       [36, 45, 54],\n",
       "       [63, 72, 81]])"
      ]
     },
     "metadata": {},
     "output_type": "display_data"
    },
    {
     "data": {
      "text/plain": [
       "array([[ 10,  40,  90],\n",
       "       [160, 250, 360],\n",
       "       [490, 640, 810]])"
      ]
     },
     "metadata": {},
     "output_type": "display_data"
    },
    {
     "data": {
      "text/plain": [
       "array([[10, 10, 10],\n",
       "       [10, 10, 10],\n",
       "       [10, 10, 10]], dtype=int32)"
      ]
     },
     "metadata": {},
     "output_type": "display_data"
    }
   ],
   "source": [
    "# 행렬과 행렬의 연산\n",
    "# 행렬의 각 원소를 1:1 매칭하여 연산하고 그 결과가 담겨 있는 행렬을 반환한다.\n",
    "# 연산을 하는 두 행렬은 행과 열이 일치해야한다.\n",
    "a1 = array1 + array2\n",
    "a2 = array1 - array2\n",
    "a3 = array1 * array2\n",
    "a4 = array1 // array2\n",
    "\n",
    "display(a1)\n",
    "display(a2)\n",
    "display(a3)\n",
    "display(a4)"
   ]
  },
  {
   "cell_type": "code",
   "execution_count": 23,
   "id": "96e648c2",
   "metadata": {},
   "outputs": [
    {
     "data": {
      "text/plain": [
       "array([[ 20,  30,  40],\n",
       "       [ 50,  60,  70],\n",
       "       [ 80,  90, 100]])"
      ]
     },
     "metadata": {},
     "output_type": "display_data"
    },
    {
     "data": {
      "text/plain": [
       "array([[ 0, 10, 20],\n",
       "       [30, 40, 50],\n",
       "       [60, 70, 80]])"
      ]
     },
     "metadata": {},
     "output_type": "display_data"
    },
    {
     "data": {
      "text/plain": [
       "array([[100, 200, 300],\n",
       "       [400, 500, 600],\n",
       "       [700, 800, 900]])"
      ]
     },
     "metadata": {},
     "output_type": "display_data"
    },
    {
     "data": {
      "text/plain": [
       "array([[1, 2, 3],\n",
       "       [4, 5, 6],\n",
       "       [7, 8, 9]], dtype=int32)"
      ]
     },
     "metadata": {},
     "output_type": "display_data"
    }
   ],
   "source": [
    "# 행렬과 숫자간의 연산\n",
    "# 행렬의 각 원소에 지정된 값을 연산한다.\n",
    "a1 = array1 + 10\n",
    "a2 = array1 - 10\n",
    "a3 = array1 * 10\n",
    "a4 = array1 // 10\n",
    "\n",
    "display(a1)\n",
    "display(a2)\n",
    "display(a3)\n",
    "display(a4)"
   ]
  },
  {
   "cell_type": "markdown",
   "id": "30ee0953",
   "metadata": {},
   "source": [
    "# 색인과 슬라이싱\n",
    "- 색인 : 원하는 값 하나를 가져오는 것\n",
    "- 슬라이싱 : 원하는 부분을 발췌하는 것"
   ]
  },
  {
   "cell_type": "code",
   "execution_count": 24,
   "id": "2c490bd3",
   "metadata": {},
   "outputs": [],
   "source": [
    "list1 = [10,20,30,40,50,60,70,80,90,100]\n",
    "array1 = np.array(list1)"
   ]
  },
  {
   "cell_type": "code",
   "execution_count": 25,
   "id": "c62cefeb",
   "metadata": {},
   "outputs": [
    {
     "data": {
      "text/plain": [
       "30"
      ]
     },
     "metadata": {},
     "output_type": "display_data"
    },
    {
     "data": {
      "text/plain": [
       "30"
      ]
     },
     "metadata": {},
     "output_type": "display_data"
    }
   ],
   "source": [
    "# 인덱스 번호 2번\n",
    "display(list1[2])\n",
    "display(array1[2])"
   ]
  },
  {
   "cell_type": "code",
   "execution_count": 26,
   "id": "a1c02a00",
   "metadata": {},
   "outputs": [
    {
     "data": {
      "text/plain": [
       "[30, 40, 50, 60]"
      ]
     },
     "metadata": {},
     "output_type": "display_data"
    },
    {
     "data": {
      "text/plain": [
       "array([30, 40, 50, 60])"
      ]
     },
     "metadata": {},
     "output_type": "display_data"
    }
   ],
   "source": [
    "# 2 ~ 6 -1 까지\n",
    "display(list1[2:6])\n",
    "display(array1[2:6])"
   ]
  },
  {
   "cell_type": "code",
   "execution_count": 27,
   "id": "668920d9",
   "metadata": {},
   "outputs": [
    {
     "data": {
      "text/plain": [
       "[10, 20, 30, 40, 50, 60]"
      ]
     },
     "metadata": {},
     "output_type": "display_data"
    },
    {
     "data": {
      "text/plain": [
       "array([10, 20, 30, 40, 50, 60])"
      ]
     },
     "metadata": {},
     "output_type": "display_data"
    }
   ],
   "source": [
    "# 처음부터 6 - 1 까지\n",
    "display(list1[:6])\n",
    "display(array1[:6])"
   ]
  },
  {
   "cell_type": "code",
   "execution_count": 28,
   "id": "3ab8c630",
   "metadata": {},
   "outputs": [
    {
     "data": {
      "text/plain": [
       "[30, 40, 50, 60, 70, 80, 90, 100]"
      ]
     },
     "metadata": {},
     "output_type": "display_data"
    },
    {
     "data": {
      "text/plain": [
       "array([ 30,  40,  50,  60,  70,  80,  90, 100])"
      ]
     },
     "metadata": {},
     "output_type": "display_data"
    }
   ],
   "source": [
    "# 2 ~ 끝까지\n",
    "display(list1[2:])\n",
    "display(array1[2:])"
   ]
  },
  {
   "cell_type": "code",
   "execution_count": 29,
   "id": "a3b685d0",
   "metadata": {},
   "outputs": [
    {
     "data": {
      "text/plain": [
       "[[1, 2, 3], [4, 5, 6], [7, 8, 9]]"
      ]
     },
     "metadata": {},
     "output_type": "display_data"
    },
    {
     "data": {
      "text/plain": [
       "array([[1, 2, 3],\n",
       "       [4, 5, 6],\n",
       "       [7, 8, 9]])"
      ]
     },
     "metadata": {},
     "output_type": "display_data"
    }
   ],
   "source": [
    "list2d = [\n",
    "    [1, 2, 3],\n",
    "    [4, 5, 6],\n",
    "    [7, 8, 9]\n",
    "]\n",
    "\n",
    "array2d = np.array([\n",
    "    [1, 2, 3],\n",
    "    [4, 5, 6],\n",
    "    [7, 8, 9]\n",
    "])\n",
    "\n",
    "display(list2d)\n",
    "display(array2d)"
   ]
  },
  {
   "cell_type": "code",
   "execution_count": 30,
   "id": "8106e58a",
   "metadata": {},
   "outputs": [
    {
     "data": {
      "text/plain": [
       "6"
      ]
     },
     "metadata": {},
     "output_type": "display_data"
    },
    {
     "data": {
      "text/plain": [
       "6"
      ]
     },
     "metadata": {},
     "output_type": "display_data"
    },
    {
     "data": {
      "text/plain": [
       "6"
      ]
     },
     "metadata": {},
     "output_type": "display_data"
    }
   ],
   "source": [
    "# 2행 3열 데이터를 가져온다.\n",
    "display(list2d[1][2])\n",
    "display(array2d[1][2])\n",
    "display(array2d[1, 2])"
   ]
  },
  {
   "cell_type": "code",
   "execution_count": 31,
   "id": "c96b0eaa",
   "metadata": {},
   "outputs": [
    {
     "name": "stdout",
     "output_type": "stream",
     "text": [
      "[[7, 8, 9]]\n",
      "[[7 8 9]]\n",
      "[[5 6]\n",
      " [8 9]]\n"
     ]
    }
   ],
   "source": [
    "# 슬라이싱\n",
    "# 1 ~ 3 - 1 행, 1 ~ 3 - 1 열의 데이터를 가져온다.\n",
    "print(list2d[1:3][1:3])\n",
    "print(array2d[1:3][1:3])\n",
    "\n",
    "# 첫번째 [1:3]에서 [4,5,6],[7,8,9]를 뽑아오고 두번째 [1:3]에서 둘 중 누구를 선택할 지 몰라 오동작하는 모습을 볼 수 있다. 지금 나온 [7,8,9] 는 잘못 출력된 값이다.\n",
    "\n",
    "print(array2d[1:3, 1:3])"
   ]
  },
  {
   "cell_type": "markdown",
   "id": "546da0b5",
   "metadata": {},
   "source": [
    "### `[ ][ ]` 와 `[ _ , _ ]` 의 차이\n",
    "`[ ][ ]`는 자료구조의 방식  \n",
    "`[ _ , _ ]` 는 수학, 행렬의 방식"
   ]
  },
  {
   "cell_type": "code",
   "execution_count": 32,
   "id": "3d14fbfd",
   "metadata": {},
   "outputs": [
    {
     "data": {
      "text/plain": [
       "array([10, 20, 30, 40, 50])"
      ]
     },
     "execution_count": 32,
     "metadata": {},
     "output_type": "execute_result"
    }
   ],
   "source": [
    "# 테스트를 위한 새로운 행렬을 생성한다.\n",
    "array1 = np.array([10, 20, 30, 40, 50])\n",
    "array1"
   ]
  },
  {
   "cell_type": "code",
   "execution_count": 33,
   "id": "a87a4381",
   "metadata": {},
   "outputs": [
    {
     "data": {
      "text/plain": [
       "array([10, 30, 50])"
      ]
     },
     "execution_count": 33,
     "metadata": {},
     "output_type": "execute_result"
    }
   ],
   "source": [
    "# True나 False를 지정한다.\n",
    "a1 = [True, False, True, False, True]\n",
    "# a1에서 True인 값을 출력\n",
    "array2 = array1[a1]\n",
    "array2"
   ]
  },
  {
   "cell_type": "code",
   "execution_count": 34,
   "id": "418f4c32",
   "metadata": {},
   "outputs": [
    {
     "data": {
      "text/plain": [
       "array([ 0,  1,  2,  3,  4,  5,  6,  7,  8,  9, 10, 11, 12, 13, 14, 15, 16,\n",
       "       17, 18, 19, 20, 21, 22, 23, 24, 25, 26, 27, 28, 29, 30, 31, 32, 33,\n",
       "       34, 35, 36, 37, 38, 39, 40, 41, 42, 43, 44, 45, 46, 47, 48, 49, 50,\n",
       "       51, 52, 53, 54, 55, 56, 57, 58, 59, 60, 61, 62, 63, 64, 65, 66, 67,\n",
       "       68, 69, 70, 71, 72, 73, 74, 75, 76, 77, 78, 79, 80, 81, 82, 83, 84,\n",
       "       85, 86, 87, 88, 89, 90, 91, 92, 93, 94, 95, 96, 97, 98, 99])"
      ]
     },
     "metadata": {},
     "output_type": "display_data"
    }
   ],
   "source": [
    "# True나 False 구성된 요소를 넣어서 True 자리에 해당하는 것만 가져오는 것을 이용해 검색 기능을 만들 수 있다.\n",
    "array1 = np.arange(100)\n",
    "display(array1)"
   ]
  },
  {
   "cell_type": "code",
   "execution_count": 35,
   "id": "7b1c44b1",
   "metadata": {},
   "outputs": [
    {
     "data": {
      "text/plain": [
       "array([ True, False, False,  True, False, False,  True, False, False,\n",
       "        True, False, False,  True, False, False,  True, False, False,\n",
       "        True, False, False,  True, False, False,  True, False, False,\n",
       "        True, False, False,  True, False, False,  True, False, False,\n",
       "        True, False, False,  True, False, False,  True, False, False,\n",
       "        True, False, False,  True, False, False,  True, False, False,\n",
       "        True, False, False,  True, False, False,  True, False, False,\n",
       "        True, False, False,  True, False, False,  True, False, False,\n",
       "        True, False, False,  True, False, False,  True, False, False,\n",
       "        True, False, False,  True, False, False,  True, False, False,\n",
       "        True, False, False,  True, False, False,  True, False, False,\n",
       "        True])"
      ]
     },
     "execution_count": 35,
     "metadata": {},
     "output_type": "execute_result"
    }
   ],
   "source": [
    "array2 = array1 % 3 == 0\n",
    "array2"
   ]
  },
  {
   "cell_type": "code",
   "execution_count": 36,
   "id": "92817047",
   "metadata": {},
   "outputs": [
    {
     "data": {
      "text/plain": [
       "array([ 0,  3,  6,  9, 12, 15, 18, 21, 24, 27, 30, 33, 36, 39, 42, 45, 48,\n",
       "       51, 54, 57, 60, 63, 66, 69, 72, 75, 78, 81, 84, 87, 90, 93, 96, 99])"
      ]
     },
     "execution_count": 36,
     "metadata": {},
     "output_type": "execute_result"
    }
   ],
   "source": [
    "array1[array2]"
   ]
  },
  {
   "cell_type": "code",
   "execution_count": 37,
   "id": "bb1d0dc6",
   "metadata": {},
   "outputs": [
    {
     "data": {
      "text/plain": [
       "array([ 0,  3,  6,  9, 12, 15, 18, 21, 24, 27, 30, 33, 36, 39, 42, 45, 48,\n",
       "       51, 54, 57, 60, 63, 66, 69, 72, 75, 78, 81, 84, 87, 90, 93, 96, 99])"
      ]
     },
     "execution_count": 37,
     "metadata": {},
     "output_type": "execute_result"
    }
   ],
   "source": [
    "# 이제 이렇게 원하는 내용을 검색하는 경우가 많아질 거다\n",
    "array1[array1 % 3 == 0]"
   ]
  },
  {
   "cell_type": "code",
   "execution_count": null,
   "id": "9701b75a",
   "metadata": {},
   "outputs": [],
   "source": []
  }
 ],
 "metadata": {
  "kernelspec": {
   "display_name": "Python 3",
   "language": "python",
   "name": "python3"
  },
  "language_info": {
   "codemirror_mode": {
    "name": "ipython",
    "version": 3
   },
   "file_extension": ".py",
   "mimetype": "text/x-python",
   "name": "python",
   "nbconvert_exporter": "python",
   "pygments_lexer": "ipython3",
   "version": "3.8.10"
  }
 },
 "nbformat": 4,
 "nbformat_minor": 5
}
