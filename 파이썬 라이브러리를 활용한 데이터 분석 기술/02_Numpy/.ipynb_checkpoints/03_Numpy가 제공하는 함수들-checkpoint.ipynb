{
 "cells": [
  {
   "cell_type": "code",
   "execution_count": 1,
   "id": "3824591f",
   "metadata": {},
   "outputs": [],
   "source": [
    "import numpy as np"
   ]
  },
  {
   "cell_type": "markdown",
   "id": "31fba628",
   "metadata": {},
   "source": [
    "# 행렬의 차원을 변경\n",
    "- reshape\n"
   ]
  },
  {
   "cell_type": "code",
   "execution_count": 2,
   "id": "eae2c1e5",
   "metadata": {},
   "outputs": [
    {
     "data": {
      "text/plain": [
       "array([ 0,  1,  2,  3,  4,  5,  6,  7,  8,  9, 10, 11, 12, 13, 14])"
      ]
     },
     "execution_count": 2,
     "metadata": {},
     "output_type": "execute_result"
    }
   ],
   "source": [
    "# 1차원 행렬을 생성한다.\n",
    "array1 = np.arange(15)\n",
    "array1"
   ]
  },
  {
   "cell_type": "code",
   "execution_count": 3,
   "id": "26e51910",
   "metadata": {},
   "outputs": [
    {
     "data": {
      "text/plain": [
       "array([[ 0,  1,  2,  3,  4],\n",
       "       [ 5,  6,  7,  8,  9],\n",
       "       [10, 11, 12, 13, 14]])"
      ]
     },
     "execution_count": 3,
     "metadata": {},
     "output_type": "execute_result"
    }
   ],
   "source": [
    "# 1차원 -> 2차원으로 변환\n",
    "array2 = array1.reshape(3, 5)\n",
    "array2"
   ]
  },
  {
   "cell_type": "code",
   "execution_count": 5,
   "id": "c153a32b",
   "metadata": {},
   "outputs": [
    {
     "name": "stdout",
     "output_type": "stream",
     "text": [
      "[ 0  1  2  3  4  5  6  7  8  9 10 11 12 13 14]\n"
     ]
    }
   ],
   "source": [
    "# 2차원 -> 1차원\n",
    "array3 = array2.reshape(15)\n",
    "print(array3)\n",
    "\n",
    "# -1을 넣어주면 알아서 숫자를 예측해준다. 따라서 다차원 -> 1차원으로 바꿀 때는 원소가 몇 개인지 세지 말고 바로 -1 ㄱㄱ\n",
    "array4 = array2.reshape(-1)\n",
    "display(array4)"
   ]
  },
  {
   "cell_type": "code",
   "execution_count": null,
   "id": "38c580fd",
   "metadata": {},
   "outputs": [],
   "source": []
  }
 ],
 "metadata": {
  "kernelspec": {
   "display_name": "Python 3",
   "language": "python",
   "name": "python3"
  },
  "language_info": {
   "codemirror_mode": {
    "name": "ipython",
    "version": 3
   },
   "file_extension": ".py",
   "mimetype": "text/x-python",
   "name": "python",
   "nbconvert_exporter": "python",
   "pygments_lexer": "ipython3",
   "version": "3.8.10"
  }
 },
 "nbformat": 4,
 "nbformat_minor": 5
}
